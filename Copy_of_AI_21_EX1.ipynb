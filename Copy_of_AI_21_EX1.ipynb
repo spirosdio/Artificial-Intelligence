{
  "nbformat": 4,
  "nbformat_minor": 0,
  "metadata": {
    "colab": {
      "name": "Copy of AI_21_EX1.ipynb",
      "provenance": [],
      "collapsed_sections": [
        "CCcGFAb8nULW",
        "PPcLy1P7naLP",
        "k4B8EEBhClt2",
        "MTiD83XMoM5u"
      ]
    },
    "deepnote": {},
    "deepnote_execution_queue": [],
    "deepnote_notebook_id": "841cb1be-4bfd-4b99-a982-8c733d384d65",
    "kernelspec": {
      "display_name": "Python 3",
      "name": "python3"
    }
  },
  "cells": [
    {
      "cell_type": "markdown",
      "metadata": {
        "id": "bxSfB7E17vMw"
      },
      "source": [
        "## Ομάδα \n",
        "\n",
        "Στοιχεία Μέλους 1: ΣΠΥΡΙΔΩΝ ΑΛΕΞΑΝΔΡΟΣ ΔΙΩΧΝΟΣ - 031 15 727\n",
        "\n",
        "Στοιχεία Μέλους 2: ΓΕΩΡΓΙΟΣ ΕΦΡΑΙΜ ΚΑΝΕΛΛΟΠΟΥΛΟΣ - 031 16 115"
      ]
    },
    {
      "cell_type": "markdown",
      "metadata": {
        "id": "CCcGFAb8nULW"
      },
      "source": [
        "# Τεχνητή Νοημοσύνη: Εργαστηριακή Άσκηση 1\n",
        "\n",
        "   \n",
        "\n",
        "\n",
        "---\n",
        "\n",
        " # Εκφώνηση\n",
        "\n",
        "Ο στόχος της εργασίας είναι η εφαρμογή αλγορίθμων αναζήτησης και εύρεσης καλύτερου μονοπατιού σε λαβύρινθο διαστάσεων $N\\times N$\n"
      ]
    },
    {
      "cell_type": "markdown",
      "metadata": {
        "id": "PPcLy1P7naLP"
      },
      "source": [
        "## Μέρος 1\n",
        "Ο στόχος του πρώτου μέρους είναι η κατασκευή **λαβυρίνθων**. [Σε αυτό το άρθρο της Wikipedia](https://en.wikipedia.org/wiki/Maze_generation_algorithm) μπορείτε να βρείτε διάφορους αλγορίθμους για αυτό το σκοπό. Προσέξτε ότι οι αλγόριθμοι του παραπάνω άρθρου κατασκευάζουν ένα μόνο μονοπάτι από κάθε σημείο του λαβυρίνθου προς οποιοδήποτε άλλο (η δομή του λαβυρίνθου έχει μορφή συνεκτικού δέντρου). Καλείστε να τροποποιήσετε τον αλγόριθμο της επιλογής σας (ενδεχομένως και πέραν αυτών που υπάρχουν στο προαναφερθέν άρθρο) ώστε οι λαβύρινθοι που κατασκευάζει να έχουν τουλάχιστον δύο (2) μονοπάτια μεταξύ ενός σημείου αφετηρίας (S) και ενός σημείου τερματισμού (F). Η τροποποίηση του αλγορίθμου μπορεί να γίνει και με πιθανοτικό τρόπο, αλλά σε αυτή την περίπτωση θα πρέπει να βεβαιωθείτε πως οι λαβύρινθοι που θα χρησιμοποιήσετε στα επόμενα ερωτήματα έχουν τουλάχιστον δύο μονοπάτια μεταξύ των S και F. Αναφέρετε ποιον αλγόριθμο επιλέξατε, περιγράψτε τον συνοπτικά καθώς και τον τρόπο που αντιμετωπίσατε το παραπάνω πρόβλημα, και υλοποιήστε τον στο κελί κώδικα του Μέρους 1.\n",
        "\n",
        "Σε όλα τα ερωτήματα φροντίστε να χρησιμοποιήσετε **δομημένο** κώδικα, με **σχόλια** που επισημαίνουν τη λογική του.\n",
        "\n",
        "\n",
        "### Παραδείγματα λαβυρίνθων\n",
        "![index1.png](data:image/png;base64,iVBORw0KGgoAAAANSUhEUgAAAOsAAADrCAYAAACICmHVAAAABHNCSVQICAgIfAhkiAAAAAlwSFlzAAALEgAACxIB0t1+/AAAADh0RVh0U29mdHdhcmUAbWF0cGxvdGxpYiB2ZXJzaW9uMy4yLjIsIGh0dHA6Ly9tYXRwbG90bGliLm9yZy+WH4yJAAADhUlEQVR4nO3dwW0UMQCGURvRB0VsBXRBi+mCCuiBOz0MlxyDYJF3x9/se8ckGo3W+uRIkf7M4zgGsL9PZ78A8G/EChFihQixQoRYIUKsEPH5nh+ec/o7DzzYcRzzo6+7WSFCrBAhVogQK0SIFSLEChFihQixQoRYIUKsECFWiBArRIgVIsQKEWKFCLFChFghQqwQcdesy2o7/zeA29vXpc/78e370uft/Nm9mjk/XGFZzs0KEWKFCLFChFghQqwQIVaIECtEiBUixAoRYoUIsUKEWCFCrBAhVogQK0SIFSLEChFihQixQsSpG0yrPWsL54pe6bOr7le5WSFCrBAhVogQK0SIFSLEChFihQixQoRYIUKsECFWiBArRIgVIsQKEWKFCLFChFghQqwQcalZl53nOl5pNmWMvc+iys0KEWKFCLFChFghQqwQIVaIECtEiBUixAoRYoUIsUKEWCFCrBAhVogQK0SIFSLEChFihQixQsSlNphW7hzZENqLs3WzQoZYIUKsECFWiBArRIgVIsQKEWKFCLFChFghQqwQIVaIECtEiBUixAoRYoUIsUKEWCFCrBBxqQ2mnbd1dn63Ap+fmxUyxAoRYoUIsUKEWCFCrBAhVogQK0SIFSLEChFihQixQoRYIUKsECFWiBArRIgVIsQKEWKFiEttMM05z34FHmTl2Vb3nNysECFWiBArRIgVIsQKEWKFCLFChFghQqwQIVaIECtEiBUixAoRYoUIsUKEWCFCrBAhVogQK0RcaoOpuq3D360827fbbdmznsnNChFihQixQoRYIUKsECFWiBArRIgVIsQKEWKFCLFChFghQqwQIVaIECtEiBUixAoRYoUIsULEpTaY5pxnvwLvVu9hOVs3K2SIFSLEChFihQixQoRYIUKsECFWiBArRIgVIsQKEWKFCLFChFghQqwQIVaIECtEiBUiLjXrsnpKhH3sfLbPmpxxs0KEWCFCrBAhVogQK0SIFSLEChFihQixQoRYIUKsECFWiBArRIgVIsQKEWKFCLFChFghQqwQceoG07O2a+AK3KwQIVaIECtEiBUixAoRYoUIsUKEWCFCrBAhVogQK0SIFSLEChFihQixQoRYIUKsECFWiBArRNy7wfRrjPHzES8CjDHG+PKnb8zjOJ75IsB/8mswRIgVIsQKEWKFCLFChFghQqwQIVaIECtE/AZROUHZqFYHAAAAAABJRU5ErkJggg==)\n",
        "![index2.png](data:image/png;base64,iVBORw0KGgoAAAANSUhEUgAAAOsAAADrCAYAAACICmHVAAAABHNCSVQICAgIfAhkiAAAAAlwSFlzAAALEgAACxIB0t1+/AAAADh0RVh0U29mdHdhcmUAbWF0cGxvdGxpYiB2ZXJzaW9uMy4yLjIsIGh0dHA6Ly9tYXRwbG90bGliLm9yZy+WH4yJAAAEvklEQVR4nO3d0W0bRxRA0WWQPlKEKkgXadFduAL3kP/0wPwKiBQu7eHwXeqcz9iIhyNfjIE3u7xcr9cDmO+3Zy8AOEesECFWiBArRIgVIsQKEb/f85svl4s5DzzY9Xq9fPTfnawQIVaIECtEiBUixAoRYoUIsULEXXPWMzxyB5+7XD4coZ7iZIUIsUKEWCFCrBAhVogQK0SIFSKWz1lvOTNnOjOr/ZV51Ve2am9v/X++6s/nkfcMnKwQIVaIECtEiBUixAoRYoUIsUKEWCFi+6WInVYMqN++/Xnz9/z46/vD13FW6TLCrgsaqzx7b52sECFWiBArRIgVIsQKEWKFCLFChFghYuSliF3D52cPud+bNPx/Na+yt05WiBArRIgVIsQKEWKFCLFChFghQqwQsf1SRGH4/N6ur/JYtS9T9nfKOl6JkxUixAoRYoUIsUKEWCFCrBAhVohYPmed9ED3FKv2ZNfM9ww/5/2crBAhVogQK0SIFSLEChFihQixQoRYIWL5pQgPHf/XpD2ZtBbu42SFCLFChFghQqwQIVaIECtEiBUixAoR29/Iv/MNA7cuAEx624G1cIuTFSLEChFihQixQoRYIUKsECFWiMh+8/muWeCkh7Wt5ee8ytzYyQoRYoUIsUKEWCFCrBAhVogQK0SIFSKWX4pYMYAuDdyPY9bQfcpazqzjzM95yueZwMkKEWKFCLFChFghQqwQIVaIECtEiBUill+KqF1o2GHSnkxayxkr1rvqYsWz987JChFihQixQoRYIUKsECFWiBArRIgVIrZ/fcaqNwiUTBrKT3rzwivuyyP/7jpZIUKsECFWiBArRIgVIsQKEWKFiO1z1kl2zXMnzY0nrWWSwr44WSFCrBAhVogQK0SIFSLEChFihQixQsSXvhTxig9irzBpLZM8e1+crBAhVogQK0SIFSLEChFihQixQoRYIWL7pYhJT+RPWssZpTdbfMVvXjiO25/pVy5WOFkhQqwQIVaIECtEiBUixAoRYoUIsULE9ksRz37a/r1Ja1ll12fadaFhxeWKV7mg4WSFCLFChFghQqwQIVaIECtEiBUiRr6Rv/SQ9SqvNh9dZcV6a5/5M05WiBArRIgVIsQKEWKFCLFChFghQqwQMfJSxBmTLhHcWsuqofyuzzzpofxJa3k2JytEiBUixAoRYoUIsUKEWCFCrBAhVojYfili51P7j/zK+NUmXZyovVmhtt6f5WSFCLFChFghQqwQIVaIECtEiBUivvQ3n++y6jOvmCfuWsvObxuf9HfqkTNfJytEiBUixAoRYoUIsUKEWCFCrBAhVogY+Ub+XQ8Tr/pzSpcVanbtbWHfnKwQIVaIECtEiBUixAoRYoUIsUKEWCFi5KWISW8z2LGOsya9EWGF2kWQZ1+ucLJChFghQqwQIVaIECtEiBUixAoRYoWI7ZciJj2RP+mywqR9qfn29va/v/4qe+tkhQixQoRYIUKsECFWiBArRIgVIi73zKAul8trDKxgsOv1+uHg3skKEWKFCLFChFghQqwQIVaIECtEiBUi7n34/J/jOP5+xEKA4ziO44/PfuGuG0zA8/hnMESIFSLEChFihQixQoRYIUKsECFWiBArRPwLUNQF44aEdWwAAAAASUVORK5CYII=)\n",
        "![index3.png](data:image/png;base64,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)"
      ]
    },
    {
      "cell_type": "markdown",
      "metadata": {
        "id": "hrKnkVsr61N-"
      },
      "source": [
        "## Μέρος 2\n",
        "\n",
        "Στο δεύτερο μέρος της εργασίας θα υλοποιήσετε τον αλγόριθμο Α* για την εύρεση συντομότερων μονοπατιών μεταξύ δυο κόμβων για τους λαβυρίνθους που παράγονται από τον κώδικα του πρώτου μέρους. Θα κατασκευάσετε και διάφορες συναρτήσεις κόστους τόσο για την μέτρηση των πραγματικών αποστάσεων όσο και για την εκτίμηση των αποστάσεων από έναν κόμβο στον κόμβο στόχο (heuristic).\n",
        "\n",
        "Η γενική μορφή της συνάρτησης κόστους στον αλγόριθμο Α* είναι:\n",
        "$$f(n)=g(n)+h(n)$$\n",
        "Παραπάνω, η συνάρτηση $g(n)$ δίνει την πραγματική απόσταση από το σημείο εκκίνησης μέχρι τον κόμβο $n$, και η συνάρτηση $h(n)$ αποτελεί μια ευριστική της απόστασης από τον κόμβο $n$ μέχρι τον στόχο. Σας ζητείται να πειραματιστείτε με τις εξής επιλογές για τις δύο συναρτήσεις:\n",
        "* $g(n)=0$ και $h(n)=\\{\\text{manhattan}(n),\\text{euclidean}(n)\\}$. Ποιος αλγόριθμος αναζήτησης προκύπτει; Μπορεί να βρει πάντα το βέλτιστο μονοπάτι;\n",
        "\n",
        "-> Tαυτίζεται με τον αλγόριθμο Best-First. Υπάρχει πιθανότητα να κολλήσει σε loop. Και δεν είναι απαραίτητο οτι θα βρεί το βέλτιστο μονοπάτι\n",
        "\n",
        "* $g(n)=1$ και $h(n)=0$. Ποιος αλγόριθμος αναζήτησης προκύπτει; Μπορεί να βρει πάντα το βέλτιστο μονοπάτι;\n",
        "\n",
        "-> Aυτό είναι ένα κλασίκο BFS. Θα βρεί το βέλτιστο μονοπατί καθώς θα τα ελέγξει όλα. \n",
        "\n",
        "* $g(n)=1$ και $h(n)=\\{\\text{manhattan}(n),\\text{euclidean}(n)\\}$. Ποιος αλγόριθμος αναζήτησης προκύπτει; Μπορεί να βρει πάντα το βέλτιστο μονοπάτι;\n",
        "\n",
        "->Αυτός είναι ο Α*. και λειτουργεί βέλτιστα αν η ευριστική ποτέ δεν υπερεκτιμήσει την απόσταση.\n",
        "\n",
        "Μπορείτε να προτείνετε και άλλες ευριστικές συναρτήσεις εκτός από τις αποστάσεις manhattan και euclidean;\n",
        "\n",
        "->Μπορούμε να χρησιμοποιήσουμε την ευκλείδια στο τετράγωνο ή και υπολογίζοντας την διαγώνιο. Αλλά  για τους περιορισμούς του προβλήματος η manhattan ειναι πολύ καλή."
      ]
    },
    {
      "cell_type": "markdown",
      "metadata": {
        "id": "HBVzpYPF9WC_"
      },
      "source": [
        "## Μέρος 3\n",
        "\n",
        "Στο τρίτο μέρος καλείστε να συγκρίνετε την απόδοση των αλγορίθμων που υλοποιήσατε στο πρώτο μέρος, με βάση την πολυπλοκότητά τους και το κατά πόσο μπορούν να βρούν το βέλτιστο μονοπάτι. \n",
        " \n",
        "Αρχικά, θα πρέπει να κατασκευάσετε πλήθος λαβυρίνθων με μέγεθος $N\\in[10,11, \\ldots,50]$ (τουλάχιστον 10 λαβυρίνθους για κάθε Ν).\n",
        "\n",
        "Έπειτα, για τους τρεις αλγορίθμους που υλοποιήσατε στο δεύτερο μέρος, καθώς και για ό,τι επιπλέον υλοποιήσατε (πχ επιπλέον ευριστικές), ζητείται να συλλέξετε τα εξής χαρακτηριστικά:\n",
        " * το μήκος του ελάχιστου μονοπατιού που εξάγει ο εκάστοτε αλγόριθμος.\n",
        " * το πλήθος των επεκτεταμένων κόμβων (expanded nodes) του κάθε αλγορίθμου, που αποτελεί μέτρο της πολυπλοκότητάς του.\n",
        " \n",
        "Για να σας είναι εύκολο να εξάγετε συμπεράσματα από τις παραπάνω παραμετροποιήσεις, ζητείται να κατασκευάσετε δύο γραφικές παραστάσεις:\n",
        " * το μήκος του ελάχιστου μονοπατιού συναρτήσει του μεγέθους του χάρτη\n",
        " * το πλήθος των expanded nodes συναρτήσει του μεγέθους του χάρτη\n",
        "\n",
        "Ένα παράδειγμα φαίνεται παρακάτω:\n",
        "\n",
        "![image.png](data:image/png;base64,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)\n",
        "\n",
        " Σας ζητείται σχολιάσετε τιςγραφικές παραστάσεις που θα φτιάξετε, και συγκεκριμένα το πώς μεταβάλλεται η συμπεριφορά των αλγορίθμων συναρτήσει του $N$.\n",
        " \n",
        " Σημειώνουμε τα παρακάτω:\n",
        " \n",
        " * Σε όλα τα παραπάνω πειράματα μπορείτε να λάβετε σαν σημείο εκκίνησης το $(1,1)$ και σαν σημείο τερματισμού $(N-2,N-2)$. Εναλλακτικά, μπορείτε να πειραματιστείτε με τυχαία σημεία εκκινησης και τερματισμού.\n",
        " * Αν και οι χάρτες παράγονται τυχαία, η εκτέλεση αλγορίθμων σε διαφορετικούς χάρτες παράγει μη συγκρίσιμα αποτελέσματα, οπότε οι αλγόριθμοι πρέπει να τρέξουν στους ίδιους χάρτες.\n",
        " * Για λόγους ευκολίας σύγκρισης, προτείνεται να τοποθετήσετε πολλαπλές γραφικές παραστάσεις στο ίδιο σύστημα αξόνων, όπου αυτό είναι εφικτό.\n",
        "\n",
        "Για το πως κατασκευάζουμε γραφικές παραστάσεις μέσω python, μπορείτε να βρείτε παραδείγματα στον κώδικα που δίνεται, καθώς και (για το ζητούμενο της άσκησης) [εδώ](https://www.kite.com/python/answers/how-to-make-multiple-plots-on-the-same-figure-in-matplotlib-in-python) .\n",
        "\n",
        "## **Visualization**\n",
        "Παράλληλα με τα παραπάνω σας δίνεται έτοιμη και μια κλάση η όποια κατασκευάζει ένα animation της αναζήτησης το όποιο υλοποιεί κάθε αλγόριθμος. Για την χρήση της κλάσης αυτής πρέπει να κάνετε τα εξής 4 βήματα:\n",
        "\n",
        "1.\tΔημιουργία ενός instance της κλάσης εκτελώντας την παρακάτω εντολή: `visualization(Start, Goal)`. Η εντολή αυτή δημιουργεί ένα αντικείμενο τύπου visualization. \n",
        "2.\tΤο βίντεο που παράγεται κάθε φορά ουσιαστικά αποτελείται από stacked frames. Συνεπώς σε κάθε βήμα εκτέλεσης όπου δηλαδή θέλουμε να προσθέσουμε ένα frame στο βίντεο πρέπει να καλέσουμε την μέθοδο της κλάσης: `draw_step(grid, frontier, expanded_nodes)` όπου το πρώτο όρισμα είναι ένας χάρτης (τύπου Maze) το δεύτερο μια λίστα με το μέτωπο της αναζήτηση ενώ το τρίτο μια λίστα με τους κόμβους οι όποιοι έχουν ήδη επεκταθεί από τον αλγόριθμο. \n",
        "3.\t(Προαιρετικό) Αν θέλουμε να προσθέσουμε στο animation και το βέλτιστο μονοπάτι που βρήκε ο αλγόριθμός μας μπορούμε να καλέσουμε την μέθοδο add_path(path) η οποία δέχεται σαν όρισμα μια λίστα με όλους τους κόμβους που ανήκουν στο βέλτιστο μονοπάτι (συμπεριλαμβανομένων και των κόμβων αρχής και τέλους).\n",
        "4.\tΤέλος καλούμε την συνάρτηση `show_gif()` η όποια εμφανίζει το animation. Επίσης μπορούμε και να αποθηκεύσουμε το gif καλώντας την συνάρτηση `save_gif (filename)` (το αρχείο πρέπει να έχει κατάληξη .gif) καθώς επίσης μπορούμε να εμφανίσουμε μόνο το τελευταίο frame καλώντας την συνάρτηση `show_last_frame()` στο όποιο (αν έχουν γίνει όλα όπως παραπάνω) θα φαίνονται όλοι οι κόμβοι οι οποίοι έχουν επεκταθεί από τον αλγόριθμο, το τελευταίο μέτωπο και (προαιρετικά) και το βέλτιστο μονοπάτι.\n",
        "\n",
        "Μπορείτε να καταλήξετε στα ίδια συμπεράσματα όσον αφορά την πολυπλοκότητα των αλγορίθμων παρατηρώντας το visualization; \n"
      ]
    },
    {
      "cell_type": "markdown",
      "metadata": {
        "id": "nqTnPBPM_RrH"
      },
      "source": [
        "## Μέρος 4\n",
        "\n",
        "Στο τέταρτο και τελευταίο μέρος της εργασίας σας δίνεται η δυνατότητα να κατασκευάσετε λαβυρίνθους με το χέρι. \n",
        "\n",
        "Καλείστε λοιπόν να **κατασκευάσετε** και να **σχολιάσετε** τους παρακάτω 5 λαβυρίνθους:\n",
        "\n",
        "\n",
        "*   **Λαβύρινθος 1**: Ο Hill-climbing δεν βρίσκει μονοπάτι από την αφετηρία στο στόχο.\n",
        "*   **Λαβύρινθος 2**: Ο Α* αργεί όσο το δυνατόν περισσότερο να βρει το βέλτιστο μονοπάτι ανεξαρτήτως της μετρικής απόστασης που χρησιμοποιείται ως ευριστική. Σε τι είδους μονοπάτι η επιλογή διαφορετικής μετρικής απόστασης (Ευκλίδεια/Manhattan) ως ευριστικής οδηγεί τον Α* να βρίσκει το μονοπάτι πιο γρήγορα;\n",
        "*   **Λαβύρινθος 3**: Ο αλγόριθμος άπληστης αναζήτησης πρώτα στο καλύτερο (greedy best first) αργεί σημαντικά περισσότερο από τον Α* για να καταλήξει στο στόχο. Σε ποια περίπτωση οι δύο αλγόριθμοι θα συμπεριφέρονταν με τον ίδιο τρόπο;\n",
        "*   **Λαβύρινθος 4**: Ο Α* καταφέρνει να βρει το μονοπάτι προς το στόχο σημαντικά πιο γρήγορα από τον Dijkstra. Ο χώρος πρέπει αναγκαστικά να περιέχει εμπόδια. Πώς επηρεάζει το μέγεθος/είδος του εμποδίου τον αριθμό βημάτων που χρειάζεται ο Dijsktra και πώς τον αριθμό βημάτων του Α*;\n",
        "*   **Λαβύρινθος 5**: Ο Α* και ο Dijkstra φτάνουν στο στόχο πραγματοποιώντας τον ίδιο ακριβώς αριθμό βημάτων για την προσέγγιση της βέλτιστης διαδρομής. Σημείωση: **αγνοήστε** την τετριμμένη περίπτωση όπου ο Α* συμπεριφέρεται όπως ο Dijkstra (h(n)=0). \n",
        "\n",
        "\n",
        "Ο Α* σε όλες τις περιπτώσεις πραγματοποιεί τη βέλτιστη δυνατή αναζήτηση.   \n",
        "\n",
        "\n",
        "Για κάθε λαβύρινθο που σχηματίζετε, δώστε μια σύντομη εξήγηση για την επιλογή σας.  \n",
        "\n",
        "**ΠΡΟΣΟΧΗ:** το output των κελιών που σχηματίζετε διατηρείται για περιορισμένο χρονικό διάστημα στο notebook, γι αυτό καλείστε να αποθηκεύσετε τη φωτογραφία (το πραγματοποιεί η συνάρτηση draw()) και να τη μεταφέρετε στο ανάλογο markdown ώστε να μπορέσουμε να την αξιολογήσουμε.\n",
        "\n",
        "\n",
        "Στη συνέχεια, καλείστε να τρέξετε τους αλγορίθμους pathfinding πάνω στους χάρτες που σχηματίσατε. Για το σκοπό αυτό, μετά την εκτέλεση της draw() καλείτε τη συνάρτηση draw_grid() που μετατρέπει την εικόνα που σχηματίσατε σε χάρτη πάνω στον οποίο μπορούν να τρέξουν οι αλγόριθμοι με χρήση της συνάρτησης pathfinder(). Χρειάζεται να επιλέξετε κατάλληλα τα ορίσματα της pathfinder ώστε να καλέσετε το σωστό αλγόριθμο αναζήτησης σε κάθε ερώτημα. Εκτελέστε τα αντίστοιχα κελιά με τον κώδικα που σας δίνεται και παρουσιάστε την έξοδο αυτών. Φυσικά, εάν ένα ερώτημα περιλαμβάνει την εκτέλεση περισσότερων του ενός αλγορίθμου, αντιγράφετε τα αντίστοιχα κελιά για κάθε αλγόριθμο και τοποθετείτε τα σωστά ορίσματα. Τέλος, η show_gif() σας παρουσιάζει το animation, όπως και στο Μέρος 3.\n",
        "**Παρατήρηση:** εφόσον δε σας δίνεται/δεν έχετε υλοποιήσει τον Hill climbing, δε σας ζητείται να τον τρέξετε στο χάρτη που θα σχηματίσετε."
      ]
    },
    {
      "cell_type": "markdown",
      "metadata": {
        "id": "k4B8EEBhClt2"
      },
      "source": [
        "# Κώδικας visualization\n"
      ]
    },
    {
      "cell_type": "code",
      "metadata": {
        "id": "fH9jHuU-Chps"
      },
      "source": [
        "import numpy as np\n",
        "import matplotlib.pyplot as plt\n",
        "import matplotlib.animation as animation\n",
        "from matplotlib.animation import PillowWriter\n",
        "from IPython.display import HTML\n",
        "\n",
        "class visualization:\n",
        "    def __init__(self, S, F):\n",
        "        '''\n",
        "          Η μέθοδος αυτή αρχικοποιεί ένα αντικείμενο τύπου visualization.\n",
        "          Είσοδος: \n",
        "          -> S: το σημείο εκκίνσης της αναζήτησης\n",
        "          -> F: το σημείο τερματισμού\n",
        "        '''\n",
        "        self.S = S\n",
        "        self.F = F\n",
        "        self.images = []\n",
        "    \n",
        "    def draw_step(self, grid, frontier, expanded_nodes):\n",
        "        '''\n",
        "          Η συνάρτηση αυτή καλείται για να σχεδιαστεί ένα frame στο animation (πρακτικά έπειτα από την επέκταση κάθε κόμβου)\n",
        "          Είσοδος: \n",
        "          -> grid: Ένα χάρτης τύπου grid\n",
        "          -> frontier: Μια λίστα με τους κόμβους που ανήκουν στο μέτωπο της αναζήτησης\n",
        "          -> expanded_nodes: Μια λίστα με τους κόμβους που έχουν ήδη επεκταθεί\n",
        "          Επιστρέφει: None\n",
        "          Η συνάρτηση αυτή πρέπει να καλεστεί τουλάχιστον μια φορά για να μπορέσει να σχεδιαστει ένα animation (πρεπεί το animation να έχει τουλάχιστον ένα frame).\n",
        "        '''\n",
        "        image = np.zeros((grid.N, grid.N, 3), dtype=int)\n",
        "        image[~grid.grid] = [0, 0, 0]\n",
        "        image[grid.grid] = [255, 255, 255]\n",
        "        # Use this to treat 1/True as obstacles\n",
        "        # image[grid.grid] = [0, 0, 0]\n",
        "        # image[~grid.grid] = [255, 255, 255]\n",
        "        \n",
        "        \n",
        "        for node in expanded_nodes:\n",
        "            image[(node.x,node.y)] = [0, 0, 128]\n",
        "\n",
        "        for node in frontier:\n",
        "            image[(node[1].x,node[1].y)] = [0, 225, 0]\n",
        "\n",
        "        image[self.S] = [50, 168, 64]\n",
        "        image[self.F] = [168, 50, 50]\n",
        "        self.images.append(image)\n",
        "    \n",
        "    def add_path(self, path):\n",
        "        '''\n",
        "          Η συνάρτηση αυτή προσθέτει στο τελευταίο frame το βέλτιστο μονοπάτι.\n",
        "          Είσοδος:\n",
        "          -> path: Μια λίστα η όποια περιέχει το βέλτιστο μονοπάτι (η οποία πρέπει να περιέχει και τον κόμβο αρχή και τον κόμβο στόχο)\n",
        "          Έξοδος: None\n",
        "        '''\n",
        "        for n in path[1:-1]:\n",
        "            image = np.copy(self.images[-1])\n",
        "            image[n] = [66, 221, 245]\n",
        "            self.images.append(image)\n",
        "        for _ in range (100):\n",
        "            self.images.append(image)\n",
        "        \n",
        "    def create_gif(self, fps = 30, repeat_delay = 2000):\n",
        "        if len(self.images) == 0:\n",
        "            raise EmptyStackOfImages(\"Error! You have to call 'draw_step' at  first.\")\n",
        "        fig = plt.figure()\n",
        "        plt.axis('off')\n",
        "        ims = []\n",
        "        for img in self.images:\n",
        "            img = plt.imshow(img)\n",
        "            ims.append([img])\n",
        "        ani = animation.ArtistAnimation(fig, ims, interval=1000//fps, blit=True, repeat_delay= repeat_delay)\n",
        "        plt.close(fig)\n",
        "        return ani\n",
        "        \n",
        "    def save_gif(self, filename, fps = 30):\n",
        "        '''\n",
        "            Η συνάρτηση αυτή ξαναδημιουργεί και αποθηκεύει το animation σε ένα αρχείο.\n",
        "            Είσοδος:\n",
        "            -> Το όνομα του αρχείου με κατάληξη .gif\n",
        "            Έξοδος: (None)\n",
        "        '''\n",
        "        ani = self.create_gif(fps)\n",
        "        writer = PillowWriter(fps= fps)\n",
        "        ani.save(filename, writer=writer)\n",
        "\n",
        "    def show_gif(self, fps= 30, repeat_delay = 2000):\n",
        "        '''\n",
        "            Η συνάρτηση αυτή εμφανίζει inline το animation.\n",
        "            Είσοδος:\n",
        "            -> fps: τα frames per second\n",
        "            Έξοδος: Το αντικείμενο που παίζει το animation\n",
        "            Exceptions: EmptyStackOfImages αν το animation δεν έχει ούτε ένα frame, δηλαδή αν η draw_step δεν έχει καλεστεί ποτέ.\n",
        "        '''\n",
        "        ani = self.create_gif(fps, repeat_delay)\n",
        "        # return HTML(ani.to_html5_video())\n",
        "        return HTML(ani.to_jshtml())\n",
        "\n",
        "    def show_last_frame(self):\n",
        "        '''\n",
        "            Η μέθοδος αυτή εμφανίζει inline το τελευταίο frame που έχει δημιουργήθει.\n",
        "            Είσοδος:\n",
        "            Έξοδος: Το αντικείμενο που εμφανίζει την εικόνα.\n",
        "            Exceptions: EmptyStackOfImages αν το animation δεν έχει ούτε ένα frame, δηλαδή αν η draw_step δεν έχει καλεστεί ποτέ.\n",
        "        '''\n",
        "        if len(self.images) == 0:\n",
        "            raise EmptyStackOfImages(\"Error! You have to call 'draw_step' at  first.\")\n",
        "        else:\n",
        "            plt.imshow(self.images[-1])\n",
        "\n",
        "\n",
        "class EmptyStackOfImages(Exception):\n",
        "    pass"
      ],
      "execution_count": 1,
      "outputs": []
    },
    {
      "cell_type": "markdown",
      "metadata": {
        "id": "_HWZO0-MAHKz"
      },
      "source": [
        "# Λύση\n",
        "\n"
      ]
    },
    {
      "cell_type": "markdown",
      "metadata": {
        "id": "MTiD83XMoM5u"
      },
      "source": [
        "## Μέρος 1\n",
        "\n",
        "Στο παρακάτω κελί κώδικα σας δίνεται ο σκελετός της κλάσης ```Maze```, όπου και θα υλοποιήσετε τον αλγόριθμο κατασκευής λαβυρίνθων. Για να λειτουργεί σωστά η οπτικοποίηση, ο λαβύριθνος αναπαριστάται ως ένας $N\\times{N}$ boolean πίνακας στο attribute ```grid``` της κλάσης. Η τιμή ```False``` σε ένα κελί του πίνακα αναπαριστά την ύπαρξη εμποδίου στο σημείο αυτό, ενώ η τιμή ```True``` ελεύθερο κελί.\n",
        "\n",
        "\n",
        "Μπορείτε να τροποποιήσετε τον δοσμένο κώδικα όπως θέλετε."
      ]
    },
    {
      "cell_type": "code",
      "metadata": {
        "id": "t-BBg2eWAFN4"
      },
      "source": [
        "import numpy as np\n",
        "import queue\n",
        "import math\n",
        "import random\n",
        "import matplotlib.pyplot as plt\n",
        "\n",
        "class Maze:\n",
        "    def __init__(self, N, S, F):\n",
        "        \"\"\"\n",
        "        N: integer that indicates the size of the NxN grid of the maze\n",
        "        S: pair of integers that indicates the coordinates of the starting point (S)\n",
        "        F: pair of integers that indicates the coordinates of the finish point (F)\n",
        "        You can add any other parameters you want to customize maze creation (e.g. variables that\n",
        "        control the creation of additional paths)\n",
        "        \"\"\"\n",
        "\n",
        "        assert N > 2\n",
        "\n",
        "        # Make sure start and end are within the grid\n",
        "\n",
        "        assert S[0] < N-1\n",
        "        assert S[1] < N-1\n",
        "        assert F[0] < N-1\n",
        "        assert F[1] < N-1\n",
        "\n",
        "        assert S[0] > 0\n",
        "        assert S[1] > 0\n",
        "        assert F[0] > 0\n",
        "        assert F[1] > 0\n",
        "\n",
        "        # Add here any additional constraints your implementation may have\n",
        "\n",
        "        self.N = N\n",
        "        self.S = S\n",
        "        self.F = F\n",
        "\n",
        "        # Grid initialized with obstacles (array of 0/False)\n",
        "        # 1/True indicates available cells\n",
        "        self.grid = np.zeros((N, N), dtype=bool)\n",
        "\n",
        "        # YOUR CODE HERE\n",
        "        #classic disjoint set https://www.geeksforgeeks.org/union-find/\n",
        "        def find_parent( parent,i):\n",
        "            if parent[i[0]][i[1]] == (i[0],i[1]):\n",
        "                return i\n",
        "            if parent[i[0]][i[1]] != (-1,-1):\n",
        "                return find_parent(parent,parent[i])\n",
        "        \n",
        "            # A utility function to do union of two subsets\n",
        "        def union(parent,x,y):\n",
        "            parent[x[0]][x[1]] = y\n",
        "        \n",
        "            \n",
        "        \n",
        "\n",
        "        \"\"\"\n",
        "           Randomized Kruskal's algorithm\n",
        "        File:KruskalGeneratedMaze.webm\n",
        "        An animation of generating a 30 by 20 maze using Kruskal's algorithm.\n",
        "        This algorithm is a randomized version of Kruskal's algorithm.\n",
        "\n",
        "        Create a list of all walls, and create a set for each cell, each containing just that one cell.\n",
        "        For each wall, in some random order:\n",
        "        If the cells divided by this wall belong to distinct sets:\n",
        "        Remove the current wall.\n",
        "        Join the sets of the formerly divided cells.\n",
        "        \"\"\"\n",
        "        \n",
        "        #we will make islands in the maze an make doors until only oone island is left\n",
        "        \n",
        "        \n",
        "        \n",
        "        self.parents = np.empty((N,N),dtype=object)    #create parent array\n",
        "        \n",
        "        \n",
        "        #this creates the island in the maze to fuse together and initializes a parent of each island\n",
        "        for i in range(1,N-1):\n",
        "            for j in range(1,N-1):\n",
        "                if i % 2 == 1 and j % 2 == 1:\n",
        "                    self.grid[i][j]=1\n",
        "                self.parents[i][j]=(i,j)\n",
        "                \n",
        "                \n",
        "        #self.draw_map()        \n",
        "                \n",
        "        \n",
        "        #create set of walls    \n",
        "        numberofwalls=0\n",
        "        walls=[]\n",
        "        for i in range(1,N-1):\n",
        "            for j in range(1,N-1):\n",
        "                if (i%2!=j%2):\n",
        "                    walls.append((i,j))\n",
        "                    \n",
        "                    numberofwalls=numberofwalls+1\n",
        "        \n",
        "        \n",
        "        #For each wall, in some random order:\n",
        "\n",
        "        while numberofwalls!=0:\n",
        "            wally=random.choice(walls)\n",
        "            \n",
        "            #Remove the current wall.\n",
        "            walls.remove(wally)\n",
        "            numberofwalls=numberofwalls-1\n",
        "            \n",
        "            \n",
        "            if (wally[0]%2==0 ):\n",
        "                one=(wally[0]+1,wally[1])\n",
        "                two=(wally[0]-1,wally[1])\n",
        "                \n",
        "            if (wally[0]%2==1):\n",
        "                one=(wally[0],wally[1]+1)\n",
        "                two=(wally[0],wally[1]-1)\n",
        "           \n",
        "            x=find_parent(self.parents,one)\n",
        "            y=find_parent(self.parents,two)\n",
        "            \n",
        "            \n",
        "            #If the cells divided by this wall belong to distinct sets:\n",
        "\n",
        "            if x != y:\n",
        "                self.grid[wally[0]][wally[1]]=1   \n",
        "                \n",
        "                \n",
        "                #Join the sets of the formerly divided cells.\n",
        "\n",
        "                union(self.parents,x,y)\n",
        "        #self.draw_map()\n",
        "            \n",
        "            \n",
        "            \n",
        "        \n",
        "            \n",
        "            #this creates the island in the maze to fuse together and initializes a parent of each island\n",
        "        for i in range(1,N-1):\n",
        "            for j in range(1,N-1):\n",
        "                self.parents[i][j]=(i,j)\n",
        "        \n",
        "         #create set of walls    \n",
        "        numberofwalls=0\n",
        "        walls=[]\n",
        "        for i in range(1,N-1):\n",
        "            for j in range(1,N-1):\n",
        "                if (i%2!=j%2):\n",
        "                    walls.append((i,j))\n",
        "                    \n",
        "                    numberofwalls=numberofwalls+1\n",
        "        #self.draw_map()\n",
        "        \n",
        "        #----------------------------------------------------------------------------------------------\n",
        "        density=0.5*self.N\n",
        "        #---------------------------------------------------------------\n",
        "        \n",
        "        while numberofwalls>1:\n",
        "            wally=random.choice(walls)\n",
        "            \n",
        "            #Remove the current wall.\n",
        "            walls.remove(wally)\n",
        "            \n",
        "            \n",
        "            numberofwalls=numberofwalls-density\n",
        "            \n",
        "            \n",
        "            if (wally[0]%2==0 ):\n",
        "                one=(wally[0]+1,wally[1])\n",
        "                two=(wally[0]-1,wally[1])\n",
        "                \n",
        "            if (wally[0]%2==1):\n",
        "                one=(wally[0],wally[1]+1)\n",
        "                two=(wally[0],wally[1]-1)\n",
        "           \n",
        "            x=find_parent(self.parents,one)\n",
        "            y=find_parent(self.parents,two)\n",
        "            \n",
        "            \n",
        "            #If the cells divided by this wall belong to distinct sets:\n",
        "\n",
        "            if x != y:\n",
        "                self.grid[wally[0]][wally[1]]=1   \n",
        "                \n",
        "                \n",
        "                #Join the sets of the formerly divided cells.\n",
        "\n",
        "                union(self.parents,x,y)\n",
        "        #self.draw_map()\n",
        "        \n",
        "        \n",
        "        \n",
        "        \n",
        "        \n",
        "\n",
        "\n",
        "    def draw_map(self, path=None):\n",
        "        \"\"\" Draws the maze as an image. Considers grid values of 0/False to represent obstacles and\n",
        "        values of 1/True to represent empty cells, but this can be customized. Obstacles are painted\n",
        "        black and empty cells are painted white. Starting point is painted green and finish point red.\n",
        "        Optionally accepts as a parameter a path within the maze which is painted blue.\n",
        "        \"\"\"\n",
        "        image = np.zeros((self.N, self.N, 3), dtype=int)\n",
        "        image[~self.grid] = [0, 0, 0]\n",
        "        image[self.grid] = [255, 255, 255]\n",
        "\n",
        "        # Uncomment the next 2 lines of code to treat 1/True as obstacles (and 0/False as free maze cells)\n",
        "        # image[self.grid] = [0, 0, 0]\n",
        "        # image[~self.grid] = [255, 255, 255]\n",
        "\n",
        "        image[self.S] = [50, 168, 64]\n",
        "        image[self.F] = [168, 50, 50]\n",
        "        if path:\n",
        "            for n in path[1:-1]:\n",
        "                image[n] = [66, 221, 245]\n",
        "\n",
        "        plt.imshow(image)\n",
        "        plt.xticks([])\n",
        "        plt.yticks([])\n",
        "        plt.show()"
      ],
      "execution_count": 2,
      "outputs": []
    },
    {
      "cell_type": "markdown",
      "metadata": {
        "id": "mfGf9hhdno5p"
      },
      "source": [
        "Τρέξτε το παρακάτω κελί κώδικα πριν παραδώσετε την άσκηση για να φαίνονται παραδείγματα λαβυρίνθων. Μπορείτε να το τροποποιήσετε."
      ]
    },
    {
      "cell_type": "code",
      "metadata": {
        "colab": {
          "base_uri": "https://localhost:8080/",
          "height": 722
        },
        "id": "9LK61zuVBCi2",
        "outputId": "68e8f2e5-649d-47b8-a617-d666fbf2ea88"
      },
      "source": [
        "for N, S, F in (11, (1, 3), (7, 9)), (25, (3, 7), (23, 19)), (51, (9, 3), (41, 41)):\n",
        "    map = Maze(N, S, F)\n",
        "    map.draw_map()"
      ],
      "execution_count": 3,
      "outputs": [
        {
          "output_type": "display_data",
          "data": {
            "text/plain": [
              "<Figure size 432x288 with 1 Axes>"
            ],
            "image/png": "[encoded data removed]"
          },
          "metadata": {}
        },
        {
          "output_type": "display_data",
          "data": {
            "text/plain": [
              "<Figure size 432x288 with 1 Axes>"
            ],
            "image/png": "[encoded data removed]"
          },
          "metadata": {}
        },
        {
          "output_type": "display_data",
          "data": {
            "text/plain": [
              "<Figure size 432x288 with 1 Axes>"
            ],
            "image/png": "[encoded data removed]"
          },
          "metadata": {}
        }
      ]
    },
    {
      "cell_type": "markdown",
      "metadata": {
        "id": "UKhJ8VJDn4ra"
      },
      "source": [
        "### Σχολιασμός\n",
        "\n",
        "Κάνουμε την κατασκευή του λαβυρίνθου σε 2 στάδια, πρώτα φτιάχνουμε ένα δέντρο με Kruskal και Union-Find και μετά ρίχνουμε ένα ποσοστό από τους τοίχους που περισσεύουν για να υπάρχουν πολλά μονοπάτια.\\\n",
        "Θα παρατηρήσετε μια μεταβλητή density αν βάλουμε τιμη κοντα στο 1 δηλαδή μικρή τοτε θα υπάρχει μικρή συγκέντρωση από τοίχους ενώ αν είναι μεγάλη σε σχέση με το μέγεθος του λαβυρίνθου θα υπάρχουν λιγότερα μονοπάτια.\n",
        "Ο λαβύρινθος μας θα είναι πάντα με περιττό μήκος πλευράς.\n"
      ]
    },
    {
      "cell_type": "markdown",
      "metadata": {
        "id": "7XhekogLCJ1i"
      },
      "source": [
        "## Μέρος 2\n",
        "\n",
        "Παρακάτω σας δίνετε ο σκελετός της κλάσης Pathfinder η οποία αρχικοποιείται με ένα αντικείμενο ```Maze``` (από το πρώτο μέρος), τη συνάρτηση πραγματικού κόστους ```c``` και την ευριστική ```h```. Σε αυτήν θα υλοποιήσετε τον αλγόριθμο αναζήτησης Α*.\n",
        "\n"
      ]
    },
    {
      "cell_type": "markdown",
      "metadata": {
        "id": "yEThSoVk5SuY"
      },
      "source": [
        "###Παραλλαγές του Αλγορίθμου Α* και της ευριστικής\n",
        "* $g(n)=0$ και $h(n)=\\{\\text{manhattan}(n),\\text{euclidean}(n)\\}$. Ποιος αλγόριθμος αναζήτησης προκύπτει; Μπορεί να βρει πάντα το βέλτιστο μονοπάτι;\n",
        "\n",
        "-> Tαυτίζεται με τον αλγόριθμο Best-First. Υπάρχει πιθανότητα να κολλήσει σε loop. Και δεν είναι απαραίτητο οτι θα βρεί το βέλτιστο μονοπάτι\n",
        "\n",
        "* $g(n)=1$ και $h(n)=0$. Ποιος αλγόριθμος αναζήτησης προκύπτει; Μπορεί να βρει πάντα το βέλτιστο μονοπάτι;\n",
        "\n",
        "-> Aυτό είναι ένα κλασίκο BFS. Θα βρεί το βέλτιστο μονοπατί καθώς θα τα ελέγξει όλα. \n",
        "\n",
        "* $g(n)=1$ και $h(n)=\\{\\text{manhattan}(n),\\text{euclidean}(n)\\}$. Ποιος αλγόριθμος αναζήτησης προκύπτει; Μπορεί να βρει πάντα το βέλτιστο μονοπάτι;\n",
        "\n",
        "->Αυτός είναι ο Α*. και λειτουργεί βέλτιστα αν η ευριστική ποτέ δεν υπερεκτιμήσει την απόσταση.\n",
        "\n",
        "Μπορείτε να προτείνετε και άλλες ευριστικές συναρτήσεις εκτός από τις αποστάσεις manhattan και euclidean;\n",
        "\n",
        "->Μπορούμε να χρησιμοποιήσουμε την ευκλείδεια στο τετράγωνο ή και υπολογίζοντας την διαγώνιο. Αλλά  για τους περιορισμούς του προβλήματος η manhattan ειναι πολύ καλή."
      ]
    },
    {
      "cell_type": "code",
      "metadata": {
        "id": "dXgXz9ZbCR2y"
      },
      "source": [
        "import heapq\n",
        "\n",
        "\n",
        "def diagonal(maze,point):\n",
        "    finish=maze.F\n",
        "    dx = abs(point[0] - finish[0])\n",
        "    dy = abs(point[1] - finish[1])\n",
        "    return (dx + dy) + (math.sqrt(2) - 2) * min(dx, dy)\n",
        "\n",
        "def always_1(maze,point):\n",
        "        return 1\n",
        "def always_0(maze,point):\n",
        "        return 0\n",
        "\n",
        "def manhattan(maze, point):\n",
        "        finish=maze.F\n",
        "        return ((abs(point[0] - finish[0]) + abs(point[1] - finish[1])))\n",
        "\n",
        "def bad_euclidean(maze, point):\n",
        "        finish = maze.F\n",
        "        return ((abs(point[0]-finish[0])**2 + abs(point[1]-finish[1])**2 ))\n",
        "    \n",
        "\n",
        "def euclidean(maze, point):\n",
        "        finish = maze.F\n",
        "        return (math.sqrt(abs(point[0]-finish[0])**2 + abs(point[1]-finish[1])**2 ))\n",
        "    \n",
        "class Cell(object):\n",
        "    def __init__(self, x, y, reachable):\n",
        "        # x coordinate\n",
        "        # y coordinate\n",
        "        # reachable or not\n",
        "        # g function\n",
        "        # h function\n",
        "        # f = g + h\n",
        "        \n",
        "        self.reachable = reachable\n",
        "        self.x = x\n",
        "        self.y = y\n",
        "        self.parent = None\n",
        "        self.g = 0\n",
        "        self.h = 0\n",
        "        self.f = 0\n",
        "\n",
        "    def __str__(self):\n",
        "      return \"(%d, %d)\" % (self.x, self.y)\n",
        "\n",
        "    def __repr__(self):\n",
        "      return str(self)\n",
        "      \n",
        "    def __lt__(self, other):\n",
        "      return self.f < other.f\n",
        "\n",
        "\n",
        "\n",
        "class Pathfinder:\n",
        "    def __init__(self, maze, c, h):\n",
        "        \"\"\"\n",
        "        maze : Αντικείμενο τύπου Maze (από Μέρος 1)\n",
        "        c : Συνάρτηση που υπολογίζει την πραγματική απόσταση μεταξύ δύο σημείων\n",
        "        h : Συνάρτηση που υπολογίζει την ευριστική μεταξύ δύο σημείων\n",
        "        \"\"\"\n",
        "        self.maze = maze\n",
        "        self.cells = []\n",
        "        self.vis = visualization(maze.S, maze.F)\n",
        "        self.path = []\n",
        "        self.cost = c\n",
        "        self.heuristic = h\n",
        "        \n",
        "        self.path_length = 0\n",
        "        self.expanded_nodes = []\n",
        "        \n",
        "        for x in range(self.maze.N):\n",
        "            for y in range(self.maze.N):\n",
        "                if self.maze.grid[x][y] == 0:\n",
        "                    reachable = False\n",
        "                else:\n",
        "                    reachable = True\n",
        "                self.cells.append(Cell(x, y, reachable))\n",
        "                \n",
        "        # self.start = self.maze.S\n",
        "        # self.end = self.maze.F\n",
        "        self.start = self.get_cell(self.maze.S[0], self.maze.S[1])\n",
        "        self.end = self.get_cell(self.maze.F[0], self.maze.F[1])\n",
        "                \n",
        "        \n",
        "        ### Fill the path list with the coordinates of each point in the path from maze.S to maze.F\n",
        "        ### Your code here\n",
        "    \n",
        "         # open list\n",
        "        self.frontier = []\n",
        "        heapq.heapify(self.frontier)\n",
        "        \n",
        "        # visited list\n",
        "        # self.visited = [[False for i in range(len(self.maze.grid[0]))] for j in range(len(self.maze.grid))]\n",
        "        self.visited = set()\n",
        "    \n",
        "        \n",
        "    def get_cell(self, x, y):\n",
        "        return self.cells[x*self.maze.N + y]\n",
        "        \n",
        "        \n",
        "    def get_adjacent_cells(self, cell):\n",
        "        # Returns adjacent cells to a cell.\n",
        "        \n",
        "        cells = []\n",
        "        if cell.x < self.maze.N-1:\n",
        "            cells.append(self.get_cell(cell.x+1, cell.y))\n",
        "        if cell.y > 0:\n",
        "            cells.append(self.get_cell(cell.x, cell.y-1))\n",
        "        if cell.x > 0:\n",
        "            cells.append(self.get_cell(cell.x-1, cell.y))\n",
        "        if cell.y < self.maze.N-1:\n",
        "            cells.append(self.get_cell(cell.x, cell.y+1))\n",
        "        return cells\n",
        "    \n",
        "    def get_heuristic(self, cell):\n",
        "        if self.heuristic == \"manhattan\":\n",
        "            return manhattan(self.maze, (cell.x, cell.y))\n",
        "        \n",
        "        elif self.heuristic == \"euclidean\":\n",
        "            return euclidean(self.maze, (cell.x, cell.y))\n",
        "        \n",
        "        elif self.heuristic == \"bad_euclidean\":\n",
        "            return bad_euclidean(self.maze, (cell.x, cell.y))\n",
        "        \n",
        "        elif self.heuristic == \"diagonal\":\n",
        "            return diagonal(self.maze, (cell.x, cell.y))\n",
        "       \n",
        "        elif self.heuristic == \"always_0\":\n",
        "            return always_0(self.maze, (cell.x, cell.y))\n",
        "        \n",
        "        elif self.heuristic == \"always_1\":\n",
        "            return always_1(self.maze, (cell.x, cell.y))\n",
        "            \n",
        "        else:\n",
        "            print(\"i dont know the function\")\n",
        "            return 0\n",
        "    \n",
        "    def update_cell(self, adj, cell):\n",
        "        adj.g = cell.g + 1\n",
        "        adj.h = self.get_heuristic(adj)\n",
        "        adj.parent = cell\n",
        "        adj.f = (int)(adj.h) + (int)(adj.g)\n",
        "        \n",
        "    def find_path(self):\n",
        "            \n",
        "        # add starting cell to open heap queue\n",
        "        heapq.heappush(self.frontier, (self.start.f, self.start))\n",
        "            \n",
        "        while len(self.frontier):\n",
        "           \n",
        "            # pop cell from frontier\n",
        "            f, cell = heapq.heappop(self.frontier)\n",
        "                \n",
        "            # add cell to closed list\n",
        "            self.visited.add(cell)\n",
        "                \n",
        "            # if finishing cell, return\n",
        "            if cell is self.end:\n",
        "                return\n",
        "                \n",
        "\n",
        "            adj_cells = self.get_adjacent_cells(cell)\n",
        "            self.expanded_nodes.append(cell)\n",
        "            for adj_cell in adj_cells:\n",
        "                if adj_cell.reachable and adj_cell not in self.visited:\n",
        "                    if (adj_cell.f, adj_cell) in self.frontier:\n",
        "                        \n",
        "                        if adj_cell.g > cell.g + 1:\n",
        "                            self.update_cell(adj_cell, cell)\n",
        "                    else:\n",
        "                        self.update_cell(adj_cell, cell)\n",
        "                        heapq.heappush(self.frontier, (adj_cell.f, adj_cell))\n",
        "            self.vis.draw_step(self.maze,self.frontier,self.expanded_nodes)\n",
        "\n",
        "   \n",
        "\n",
        "    def get_path(self):\n",
        "        self.find_path()\n",
        "        cell = self.end\n",
        "        self.path_length = cell.g\n",
        "        path = [(cell.x, cell.y)]\n",
        "        while cell.parent is not self.start:\n",
        "            cell = cell.parent\n",
        "            path.append((cell.x, cell.y))\n",
        "            \n",
        "        path.append((self.start.x, self.start.y))\n",
        "        path.reverse()\n",
        "        return path\n",
        "    "
      ],
      "execution_count": 4,
      "outputs": []
    },
    {
      "cell_type": "markdown",
      "metadata": {
        "id": "7mA1elqEy-GU"
      },
      "source": [
        "Για να δείτε το μονοπάτι που κατασκευάσατε, μπορείτε να καλείτε τη μέθοδο ```draw_map``` του αντικειμένου ```maze``` οπως φαίνεται στο παρακάτω κελί."
      ]
    },
    {
      "cell_type": "code",
      "metadata": {
        "colab": {
          "base_uri": "https://localhost:8080/",
          "height": 1000
        },
        "id": "fwcVPbRACUIz",
        "outputId": "4db39ece-2c04-4a70-a349-3ffe8f36dfdc"
      },
      "source": [
        "import math\n",
        "\n",
        "## A heuristic\n",
        "def my_function(a, b):\n",
        "    return abs(a[0] - b[0]) + abs(a[1] - b[1])\n",
        "\n",
        "## Create a 41x41 maze\n",
        "N = 41\n",
        "S = (5, 9)\n",
        "F = (37, 37)\n",
        "maze = Maze(N, S, F)\n",
        "\n",
        "\n",
        "\n",
        "## Find and visualize the path\n",
        "##pf = Pathfinder(maze=maze, c = lambda x, y: 1, h = \"manhattan\")\n",
        "\n",
        "\n",
        "#meros 1\n",
        "path = Pathfinder(maze, \"always_0\", \"manhattan\")\n",
        "maze.draw_map(path.get_path())\n",
        "\n",
        "path = Pathfinder(maze, \"always_0\", \"euclidean\")\n",
        "maze.draw_map(path.get_path())\n",
        "\n",
        "#meros2\n",
        "path = Pathfinder(maze, \"always_1\", \"always_0\")\n",
        "maze.draw_map(path.get_path())\n",
        "\n",
        "#meros 3\n",
        "path = Pathfinder(maze, \"always_1\", \"manhattan\")\n",
        "maze.draw_map(path.get_path())\n",
        "\n",
        "path = Pathfinder(maze, \"always_1\", \"euclidean\")\n",
        "maze.draw_map(path.get_path())"
      ],
      "execution_count": 5,
      "outputs": [
        {
          "output_type": "display_data",
          "data": {
            "text/plain": [
              "<Figure size 432x288 with 1 Axes>"
            ],
            "image/png": "[encoded data removed]"
          },
          "metadata": {}
        },
        {
          "output_type": "display_data",
          "data": {
            "text/plain": [
              "<Figure size 432x288 with 1 Axes>"
            ],
            "image/png": "[encoded data removed]"
          },
          "metadata": {}
        },
        {
          "output_type": "display_data",
          "data": {
            "text/plain": [
              "<Figure size 432x288 with 1 Axes>"
            ],
            "image/png": "[encoded data removed]"
          },
          "metadata": {}
        },
        {
          "output_type": "display_data",
          "data": {
            "text/plain": [
              "<Figure size 432x288 with 1 Axes>"
            ],
            "image/png": "[encoded data removed]"
          },
          "metadata": {}
        },
        {
          "output_type": "display_data",
          "data": {
            "text/plain": [
              "<Figure size 432x288 with 1 Axes>"
            ],
            "image/png": "[encoded data removed]"
          },
          "metadata": {}
        }
      ]
    },
    {
      "cell_type": "markdown",
      "metadata": {
        "id": "lulTcEPq0nMV"
      },
      "source": [
        "Για να χρονομετρήσετε το τρέξιμο ενός κελιού μπορείτε να χρησιμοποιήσετε το μαγικό ```%%time```"
      ]
    },
    {
      "cell_type": "code",
      "metadata": {
        "colab": {
          "base_uri": "https://localhost:8080/",
          "height": 287
        },
        "id": "--yjHv6503F_",
        "outputId": "307349c1-d8bd-47be-cb4c-7993ff694ee6"
      },
      "source": [
        "%%time\n",
        "pf = Pathfinder(maze, \"always_1\", \"bad_euclidean\")\n",
        "maze.draw_map(pf.get_path())"
      ],
      "execution_count": 6,
      "outputs": [
        {
          "output_type": "display_data",
          "data": {
            "text/plain": [
              "<Figure size 432x288 with 1 Axes>"
            ],
            "image/png": "[encoded data removed]"
          },
          "metadata": {}
        },
        {
          "output_type": "stream",
          "name": "stdout",
          "text": [
            "CPU times: user 65.4 ms, sys: 2.96 ms, total: 68.3 ms\n",
            "Wall time: 67.9 ms\n"
          ]
        }
      ]
    },
    {
      "cell_type": "markdown",
      "metadata": {
        "id": "XmmqhRLfEjKj"
      },
      "source": [
        "## Μέρος 3\n",
        "\n",
        "Στο παρακάτω κελί σας δίνεται ένα παράδειγμα για την κατασκευή γραφικών παραστάσεων. Θα πρέπει να κατασκευάσετε τις δύο γραφικές παραστάσεις σύμφωνα με τα ζητούμενα της άσκησης."
      ]
    },
    {
      "cell_type": "code",
      "metadata": {
        "colab": {
          "base_uri": "https://localhost:8080/",
          "height": 545
        },
        "id": "kmINWGbf1mF5",
        "outputId": "db4f42cf-7e7f-48a9-bb6e-bb4efdd02a6e"
      },
      "source": [
        "# Pathfinder.path_length\n",
        "# len(Pathfinder.expanded_nodes)\n",
        "\n",
        "import time\n",
        "\n",
        "map_sizes = []\n",
        "\n",
        "for k in range(11, 51, 2):\n",
        "    map_sizes.append(k)\n",
        "\n",
        "# i = no. of maps, j = algorithms tested\n",
        "path_lengths = [[0 for i in range(20)] for j in range(8)]\n",
        "expanded_nodes = [[0 for i in range(20)] for j in range(8)]\n",
        "\n",
        "heuristics=[\"manhattan\",\"euclidean\",\"bad_euclidean\",\"diagonal\"]\n",
        "\n",
        "labels = [\"\" for i in range(8)]\n",
        "\n",
        "# for every map_size run every heuristic, for the same map\n",
        "\n",
        "j = 0\n",
        "\n",
        "for N in map_sizes:\n",
        "\n",
        "    # for times in range(1,10):\n",
        "    my_maze=Maze(N,(1,1),(N-2,N-2))\n",
        "\n",
        "    # manhattan 0  \n",
        "    my_path = Pathfinder(my_maze, \"always_0\", \"manhattan\")\n",
        "    my_path.get_path()\n",
        "    path_lengths[0][j] = my_path.path_length\n",
        "    expanded_nodes[0][j] = len(my_path.expanded_nodes)\n",
        "    labels[0] = \"manhattan g(n) = 0\"\n",
        "\n",
        "    # manhattan 1\n",
        "    my_path = Pathfinder(my_maze, \"always_1\", \"manhattan\")\n",
        "    my_path.get_path()\n",
        "    path_lengths[1][j] = my_path.path_length\n",
        "    expanded_nodes[1][j] = len(my_path.expanded_nodes)\n",
        "    labels[1] = \"manhattan g(n) = 1\"\n",
        "\n",
        "    # euclidean 0\n",
        "    my_path = Pathfinder(my_maze, \"always_0\", \"euclidean\")\n",
        "    my_path.get_path()\n",
        "    path_lengths[2][j] = my_path.path_length\n",
        "    expanded_nodes[2][j] = len(my_path.expanded_nodes)\n",
        "    labels[2] = \"euclidean g(n) = 0\"\n",
        "\n",
        "    # euclidean 1\n",
        "    my_path = Pathfinder(my_maze, \"always_1\", \"euclidean\")\n",
        "    my_path.get_path()\n",
        "    path_lengths[3][j] = my_path.path_length\n",
        "    expanded_nodes[3][j] = len(my_path.expanded_nodes)\n",
        "    labels[3] = \"euclidean g(n) = 1\"\n",
        "\n",
        "    # bad_euclidean 0\n",
        "    my_path = Pathfinder(my_maze, \"always_0\", \"bad_euclidean\")\n",
        "    my_path.get_path()\n",
        "    path_lengths[4][j] = my_path.path_length\n",
        "    expanded_nodes[4][j] = len(my_path.expanded_nodes)\n",
        "    labels[4] = \"bad_euclidean g(n) = 0\"\n",
        "\n",
        "    # bad_euclidean 1\n",
        "    my_path = Pathfinder(my_maze, \"always_1\", \"bad_euclidean\")\n",
        "    my_path.get_path()\n",
        "    path_lengths[5][j] = my_path.path_length\n",
        "    expanded_nodes[5][j] = len(my_path.expanded_nodes)\n",
        "    labels[5] = \"bad_euclidean g(n) = 1\"\n",
        "\n",
        "    # diagonal 0\n",
        "    my_path = Pathfinder(my_maze, \"always_0\", \"diagonal\")\n",
        "    my_path.get_path()\n",
        "    path_lengths[6][j] = my_path.path_length\n",
        "    expanded_nodes[6][j] = len(my_path.expanded_nodes)\n",
        "    labels[6] = \"diagonal g(n) = 0\"\n",
        "\n",
        "    # diagonal 1\n",
        "    my_path = Pathfinder(my_maze, \"always_1\", \"diagonal\")\n",
        "    my_path.get_path()\n",
        "    path_lengths[7][j] = my_path.path_length\n",
        "    expanded_nodes[7][j] = len(my_path.expanded_nodes)\n",
        "    labels[7] = \"diagonal g(n) = 1\"\n",
        "\n",
        "    j = j+1\n",
        "\n",
        "\n",
        "for n in range(8):\n",
        "    plt.plot(map_sizes, path_lengths[n])\n",
        "plt.legend(labels)\n",
        "plt.title('Path length vs map size')\n",
        "plt.show()\n",
        "\n",
        "for n in range(8):\n",
        "    plt.plot(map_sizes, expanded_nodes[n])\n",
        "plt.legend(labels)\n",
        "plt.title('Expanded Nodes vs map size')\n",
        "plt.show()"
      ],
      "execution_count": 7,
      "outputs": [
        {
          "output_type": "display_data",
          "data": {
            "text/plain": [
              "<Figure size 432x288 with 1 Axes>"
            ],
            "image/png": "[encoded data removed]"
          },
          "metadata": {
            "needs_background": "light"
          }
        },
        {
          "output_type": "display_data",
          "data": {
            "text/plain": [
              "<Figure size 432x288 with 1 Axes>"
            ],
            "image/png": "[encoded data removed]"
          },
          "metadata": {
            "needs_background": "light"
          }
        }
      ]
    },
    {
      "cell_type": "markdown",
      "metadata": {
        "id": "C0XMQ9Nmjlxt"
      },
      "source": [
        "Το πρώτο πράγμα που παρατηρούμε είναι ότι το τελικό μονοπάτι δεν διαφέρει πολυ εως καθόλου μεταξύ των αλγορίθμων ειδικα αν το συγκρίνουμε με το πόσο διαφέρει ο αριθμός των expanded nodes. \n",
        "\n"
      ]
    },
    {
      "cell_type": "markdown",
      "metadata": {
        "id": "u3Ar_h-6EbZ6"
      },
      "source": [
        "## Μέρος 4\n",
        "\n",
        "Σας δίνεται η συνάρτηση ```draw(filename='filename.png')``` η οποία παράγει ένα interactive grid ώστε να σχηματίσετε το λαβύρινθο. Θεωρήστε ως μαύρο το χρώμα του εμποδίου, πράσινο την αφετηρία και κόκκινο το στόχο, και πατήστε finish για να ολοκληρωθεί η εκτέλεση του τρέχοντος κελιού. Σε περίπτωση που θέλετε να παράξετε νέο λαβύρινθο, απλά ξανατρέξτε το κελί, επιλέξτε τα τετράγωνα και πατήστε finish. Κάθε εκτέλεση αποθηκεύει την εικόνα σε μορφή png σε όνομα που μπορείτε να καθορίσετε μέσω του filename (τοποθετώντας και την κατάληξη .png) κατά την κλήση της συνάρτησης.  \n",
        "\n",
        "Μπορείτε να το δοκιμάσετε τρέχοντας το επόμενο κελί κώδικα.\n"
      ]
    },
    {
      "cell_type": "code",
      "metadata": {
        "id": "k58iY7EPSa_m",
        "colab": {
          "base_uri": "https://localhost:8080/",
          "height": 343
        },
        "outputId": "3f72588d-d38e-4fd0-ddf7-9ee80f2aa705"
      },
      "source": [
        "from IPython.display import HTML, Image\n",
        "from google.colab.output import eval_js\n",
        "from base64 import b64decode\n",
        "import PIL\n",
        "\n",
        "\n",
        "canvas_html = \"\"\"\n",
        "<canvas width=301 height=301></canvas>\n",
        "<br>\n",
        "\n",
        "<button id = \"start\" style=\"background-color: #008000\">Start</button>\n",
        "<button id = \"end\" style=\"background-color: #800000\">End</button>\n",
        "<button id = \"finish\">Finish</button>\n",
        "<script>\n",
        "\n",
        "var canvas = document.querySelector('canvas')\n",
        "var ctx = canvas.getContext('2d')\n",
        "\n",
        "for (var x = 0.5; x < 301; x += 20) {\n",
        "  ctx.moveTo(x, 0);\n",
        "  ctx.lineTo(x, 300);\n",
        "}\n",
        "\n",
        "for (var y = 0.5; y < 301; y += 20) {\n",
        "  ctx.moveTo(0, y);\n",
        "  ctx.lineTo(300, y);\n",
        "}\n",
        "\n",
        "ctx.strokeStyle = \"#000\";\n",
        "ctx.stroke();\n",
        "\n",
        "var button = document.getElementById('finish')\n",
        "var start_button = document.getElementById('start')\n",
        "var end_button = document.getElementById('end')\n",
        "\n",
        "\n",
        "start_button.onclick = ()=>{\n",
        "    ctx.fillStyle=\"#008000\";\n",
        "  }\n",
        "\n",
        "end_button.onclick = ()=>{\n",
        "    ctx.fillStyle=\"#800000\";\n",
        "  }\n",
        "   \n",
        "\n",
        "var mouse = {x: 0, y: 0}\n",
        "canvas.addEventListener('mousemove', function(e) {\n",
        "  mouse.x = e.pageX - this.offsetLeft\n",
        "  mouse.y = e.pageY - this.offsetTop\n",
        "})\n",
        "\n",
        "function getMousePos(canvas, evt) {\n",
        "        var rect = canvas.getBoundingClientRect();\n",
        "        return {\n",
        "          x: evt.x - rect.left,\n",
        "          y: evt.y - rect.top\n",
        "        };\n",
        "      }\n",
        "\n",
        "function getNearestSquare(position) {\n",
        "    var x = position.x;\n",
        "    var y = position.y;\n",
        "\n",
        "    if (x < 0 || y < 0) return null;\n",
        "    x = (Math.floor(x / 20) * 20) + 0.5\n",
        "    y = (Math.floor(y / 20) * 20) + 0.5\n",
        "    return {x: x, y: y};\n",
        "}\n",
        "\n",
        "function containsObject(obj, list) {\n",
        "    var i;\n",
        "    for (i = 0; i < list.length; i++) {\n",
        "        if (list[i].x === obj.x && list[i].y == obj.y) {\n",
        "            return i;\n",
        "        }\n",
        "    }\n",
        "    return -1;\n",
        "}\n",
        "\n",
        "borders = []\n",
        "\n",
        "canvas.onmousedown = ()=>{\n",
        "    var pos = getNearestSquare(getMousePos(canvas, mouse));\n",
        "    if (pos != null) {\n",
        "        index = containsObject(pos, borders)\n",
        "        if (index != -1){\n",
        "            borders.splice(index, 1)\n",
        "            ctx.clearRect(pos.x + 1, pos.y, 19, 19)\n",
        "        }\n",
        "        else{\n",
        "            ctx.fillRect(pos.x+1,pos.y+1,18,18);\n",
        "            borders.push(pos)\n",
        "        }\n",
        "        ctx.fillStyle=\"#000000\";\n",
        "    }\n",
        "}\n",
        "var data = new Promise(resolve=>{\n",
        "  button.onclick = ()=>{\n",
        "    resolve(canvas.toDataURL('image/png'))\n",
        "  }\n",
        "})\n",
        "</script>\n",
        "\"\"\"\n",
        "\n",
        "def draw(filename='4.1.png'):\n",
        "  display(HTML(canvas_html))\n",
        "  data = eval_js(\"data\")\n",
        "  print (data)\n",
        "  binary = b64decode(data.split(',')[1])\n",
        "  with open(filename, 'wb') as f:\n",
        "    f.write(binary)\n",
        "  return len(binary)\n",
        "\n",
        "\n",
        "draw()"
      ],
      "execution_count": null,
      "outputs": [
        {
          "output_type": "display_data",
          "data": {
            "text/plain": [
              "<IPython.core.display.HTML object>"
            ],
            "text/html": [
              "\n",
              "<canvas width=301 height=301></canvas>\n",
              "<br>\n",
              "\n",
              "<button id = \"start\" style=\"background-color: #008000\">Start</button>\n",
              "<button id = \"end\" style=\"background-color: #800000\">End</button>\n",
              "<button id = \"finish\">Finish</button>\n",
              "<script>\n",
              "\n",
              "var canvas = document.querySelector('canvas')\n",
              "var ctx = canvas.getContext('2d')\n",
              "\n",
              "for (var x = 0.5; x < 301; x += 20) {\n",
              "  ctx.moveTo(x, 0);\n",
              "  ctx.lineTo(x, 300);\n",
              "}\n",
              "\n",
              "for (var y = 0.5; y < 301; y += 20) {\n",
              "  ctx.moveTo(0, y);\n",
              "  ctx.lineTo(300, y);\n",
              "}\n",
              "\n",
              "ctx.strokeStyle = \"#000\";\n",
              "ctx.stroke();\n",
              "\n",
              "var button = document.getElementById('finish')\n",
              "var start_button = document.getElementById('start')\n",
              "var end_button = document.getElementById('end')\n",
              "\n",
              "\n",
              "start_button.onclick = ()=>{\n",
              "    ctx.fillStyle=\"#008000\";\n",
              "  }\n",
              "\n",
              "end_button.onclick = ()=>{\n",
              "    ctx.fillStyle=\"#800000\";\n",
              "  }\n",
              "   \n",
              "\n",
              "var mouse = {x: 0, y: 0}\n",
              "canvas.addEventListener('mousemove', function(e) {\n",
              "  mouse.x = e.pageX - this.offsetLeft\n",
              "  mouse.y = e.pageY - this.offsetTop\n",
              "})\n",
              "\n",
              "function getMousePos(canvas, evt) {\n",
              "        var rect = canvas.getBoundingClientRect();\n",
              "        return {\n",
              "          x: evt.x - rect.left,\n",
              "          y: evt.y - rect.top\n",
              "        };\n",
              "      }\n",
              "\n",
              "function getNearestSquare(position) {\n",
              "    var x = position.x;\n",
              "    var y = position.y;\n",
              "\n",
              "    if (x < 0 || y < 0) return null;\n",
              "    x = (Math.floor(x / 20) * 20) + 0.5\n",
              "    y = (Math.floor(y / 20) * 20) + 0.5\n",
              "    return {x: x, y: y};\n",
              "}\n",
              "\n",
              "function containsObject(obj, list) {\n",
              "    var i;\n",
              "    for (i = 0; i < list.length; i++) {\n",
              "        if (list[i].x === obj.x && list[i].y == obj.y) {\n",
              "            return i;\n",
              "        }\n",
              "    }\n",
              "    return -1;\n",
              "}\n",
              "\n",
              "borders = []\n",
              "\n",
              "canvas.onmousedown = ()=>{\n",
              "    var pos = getNearestSquare(getMousePos(canvas, mouse));\n",
              "    if (pos != null) {\n",
              "        index = containsObject(pos, borders)\n",
              "        if (index != -1){\n",
              "            borders.splice(index, 1)\n",
              "            ctx.clearRect(pos.x + 1, pos.y, 19, 19)\n",
              "        }\n",
              "        else{\n",
              "            ctx.fillRect(pos.x+1,pos.y+1,18,18);\n",
              "            borders.push(pos)\n",
              "        }\n",
              "        ctx.fillStyle=\"#000000\";\n",
              "    }\n",
              "}\n",
              "var data = new Promise(resolve=>{\n",
              "  button.onclick = ()=>{\n",
              "    resolve(canvas.toDataURL('image/png'))\n",
              "  }\n",
              "})\n",
              "</script>\n"
            ]
          },
          "metadata": {}
        }
      ]
    },
    {
      "cell_type": "markdown",
      "metadata": {
        "id": "aeYumpL5FrUF"
      },
      "source": [
        "Οι συναρτήσεις στο παρακάτω κελί κώδικα είναι βοηθητικές. Μετατρέπουν την εικόνα που αποθηκεύεται από την ```draw``` του προηγούμενου κελιου ξανά σε αντικείμενο τύπου Maze για να μπορέσετε να τρέξετε τους αλγορίθμους που έχετε υλοποιήσει καθώς και τον κώδικα visualization που σας δίνεται."
      ]
    },
    {
      "cell_type": "code",
      "metadata": {
        "id": "D8fS2Z9Xg4fS"
      },
      "source": [
        "def find_points(image_array, pixels):\n",
        "    points = []\n",
        "    for grid_i, i in enumerate(range (10, image_array.shape[0]-10, 20)):\n",
        "        for grid_j, j in enumerate(range (10, image_array.shape[1]-10, 20)):\n",
        "            if np.array_equal(image_array[i][j], pixels):\n",
        "                points.append([grid_i+1, grid_j+1])\n",
        "    return points\n",
        "\n",
        "def load_maze(fname='/content/drawing.png'):\n",
        "    N = 17\n",
        "    image = PIL.Image.open(fname)\n",
        "    image_array = np.round(np.array(image)/255)\n",
        "\n",
        "    start_x, start_y = find_points(image_array, [0,1,0,1])[0]\n",
        "    end_x, end_y = find_points(image_array, [1, 0, 0, 1])[0]\n",
        "    walls = find_points(image_array, [0, 0, 0, 1])\n",
        "    new_grid = Maze(N, (start_x, start_y), (end_x, end_y))\n",
        "\n",
        "    for i in range(N):\n",
        "        for j in range(N):\n",
        "            if [i, j] in walls:\n",
        "                new_grid.grid[i,j] = 0\n",
        "            else:\n",
        "                new_grid.grid[i, j] = 1\n",
        "\n",
        "    g = new_grid\n",
        "    g.draw_map()\n",
        "    return g\n"
      ],
      "execution_count": null,
      "outputs": []
    },
    {
      "cell_type": "markdown",
      "metadata": {
        "id": "8o3F5sGT1YNm"
      },
      "source": [
        "\n",
        "Υπενθυμίζεται ότι το output των κελιών που σχηματίζετε διατηρείται για περιορισμένο χρονικό διάστημα στο notebook, γι αυτό καλείστε να αποθηκεύσετε τη φωτογραφία (το πραγματοποιεί η συνάρτηση draw()) και να τη μεταφέρετε στο ανάλογο markdown."
      ]
    },
    {
      "cell_type": "markdown",
      "metadata": {
        "id": "tprNeqaPIdlW"
      },
      "source": [
        "### 4.1.  "
      ]
    },
    {
      "cell_type": "code",
      "metadata": {
        "id": "vF3u1cCeIo9H"
      },
      "source": [
        "draw(filename='4.1.png')"
      ],
      "execution_count": null,
      "outputs": []
    },
    {
      "cell_type": "markdown",
      "metadata": {
        "id": "hEYZseBwB30p"
      },
      "source": [
        "![4.1.png](data:image/png;base64,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)"
      ]
    },
    {
      "cell_type": "markdown",
      "metadata": {
        "id": "QjwsOf63Ir7V"
      },
      "source": [
        "#### Εισάγετε εδώ τη φωτογραφία όπως αυτή προέκυψε από την εκτέλεση και αλληλεπίδραση με το παραπάνω κελί.  \n",
        "\n",
        "\n",
        "#### Εισάγετε εδώ το σχολιασμό σας    \n",
        "Όπως ξέρουμε ο Hill-climbing δεν θα βρεί μονοπάτι αν πρέπει να κάνει κύκλο για να το φτάσει. Για αυτό του έβαλα ένα εμπόδιο ανάμεσα από την αφετηρία και τον στόχο.\n",
        "\n",
        "\n",
        "\n",
        "Υπενθύμιση: για τον Hill Climbing δε χρειάζετει να τρέξετε τον αλγόριθμο στο χάρτη που σχηματίσατε, αρκεί ο σχολιασμός"
      ]
    },
    {
      "cell_type": "markdown",
      "metadata": {
        "id": "CxyUgnTaIhHa"
      },
      "source": [
        "### 4.2.  "
      ]
    },
    {
      "cell_type": "code",
      "metadata": {
        "id": "ZT1RxaUJJBok"
      },
      "source": [
        "draw(filename='4.2.png')"
      ],
      "execution_count": null,
      "outputs": []
    },
    {
      "cell_type": "markdown",
      "metadata": {
        "id": "2whQnhT7JGbR"
      },
      "source": [
        "#### Εισάγετε εδώ τη φωτογραφία όπως αυτή προέκυψε από την εκτέλεση και αλληλεπίδραση με το παραπάνω κελί.  \n",
        "\n",
        "\n",
        "#### Εισάγετε εδώ το σχολιασμό σας \n",
        "Ο Α-star προσπαθεί να πάει πάντα κοντά στην λύση, αλλα τώρα που για να το κάνει αυτό πρέπει να κάνει το γύρο δυσκολεύεται και ελέγχει όλα τα τετράγωνα"
      ]
    },
    {
      "cell_type": "markdown",
      "metadata": {
        "id": "khCBwLQpEPbK"
      },
      "source": [
        "![4.2.png](data:image/png;base64,iVBORw0KGgoAAAANSUhEUgAAAS0AAAEtCAYAAABd4zbuAAAAAXNSR0IArs4c6QAAE7pJREFUeF7t3WF31LgShOHhlwO/nHsmF4dMQnanuySQVg9f9tyLZZy3S6Vy21a+3G63Hzd/EEAAgU0IfPlpWt9//vf+vz/7cze3f/r7a9zX2+3mfB8p4vd7ZdHL77n8l/TyjG88a5k/3prWXTzpn7tZXSJ0vjpN/OrM3o7Ab01+TCuoC1EH8H4maItSn+Gp+mNafc283LaadH2A+PXZ3Ueeyo9pBbo5VTTXzx2gexmKX0bwVH5MK9DNqaJhWj3R0EuP2zXq4se0Ao5EGMCTtDJ4B/NjWoF0mFYA7+BJJ6n2dCNp9bg9jGJaGUT88KsQYFoVWp8ca9JlEPHDr0KAaVVoMS1P++ilTGDWoqSnVS7FrwGziqLn0SuKevS4vX86t7r+mFZQZ5MkgKcRn8E7mB/TCqTDtAJ4B0+61ZPM6tfHtIJ5x7QCeEwrg3cwP6YVSIdpBfAOnnSrJ5nVr49pBfOOaQXwmFYG72B+TCuQDtMK4B086VZPMqtf3xTT+vZGy9fGgNd/r7969h++b/3ifP/f5fXtVtb4/d4w6eX/Ovkv6+VZ7T+zpL7uXPrMwY5BAAEE/jqBt6lq1MU8u7f1s/+e8z1L6vfH4YdfhcBdL/fbzX/Tzb/9/fVv3pP0lKQ19KSjL9L5Kpr7cOyz4nr2H3G+Z0ntu4iM7pEN9RdJKxPgfbRJnDHEbz1+TCurCVPAr0SACZZw/TaZM62MIdPCr0SAaZVwMS23S5lg8MOvSmCGSUta1Sq8O35GUYY2Bj0oiCqsvhG+KXciTCuryZSiMK1+UZhMn90uSZppZTVmWviVCDDVEi49rV1WEkmrL2ym0Ge3y/yQtLIaS1r4lQgw1RIuSWuXlUTS6gubKfTZ7TI/JK2sxpIWfiUCTLWES9LaZSWRtPrCZgp9drvMD0krq7GkhV+JAFMt4ZK0dllJJK2+sJlCn90u80PSymosaeFXIsBUS7gkrV1WEkmrL2ym0Ge3y/yQtLIaS1r4lQgw1RKu3yat0b/jYWhIeL+ZfvbjGo0AAghMJnCZ1tJ7QttFIVKB5BHhOzLpL+0Hb03rvgF9+ue6Fx4aB5lWVBamFeE71rSW9QOmlQl6l8aqRaRf5xNNf4tG/NIXKWn1Z5xfvBGxO3VRWtoPJK1Y00fePkhufd3skNyYVr++LyN3KLJJ3C+y+vbZzZofTCurCdPCr0SACZZwfTj4+g3TGvEBRyIM4EmqGbxD+UlaoWyYVgYQP/wqBCStCq1PjjXpMoj44VchwLQqtJiWBw/0UiYwY1Fye1guw+OAGUXxtK9fFPXos5v1tG+0nplWVmNPD/ErEWCqJVyeHvr2MBPMLivx6JXd+fq6mWHSkla/Hno8ITsmmAOcYQqrmzTTCnVzomhWF7Xr64t6Bz0zrX59Ja2QnaSVA9zBZEYvIkwr1M2JohktQufri/BE/W1hWkvvCW1rmv6MO/QzFCbdl8zdpJf2A3vE94trJAII/AUC9ojPoZ94+yDJ9HWzg17sEd+vr0Z8yE4jPge4g8mMXkS26GktfZF6WtHMO3HSjZ7Ep51vaT+w3XLkB5Jgjs9nWiHDGYsS01qwKKetnH7evghnmMLq9WBafb1IMiE7Pa0cINPqM5zyLbLbw35BrpEninr1pOD6+rq2CWCf3etIppBBxA+/CgGmVaH1ybEmXQYRP/wqBJhWhRbT0sOjlzKBGYuSRny5DI8DZhRFz6NfFPXos9vlwQjTymrsPR78SgSYagnXh4PdHmb83C7hVybAtMrIHgYwrYwf08KvTIBplZExra++FYxUY9JF+LQTMnwv/PS0BkDUOO9DZIJ9drs0zkfPD6aVacbKiV+JAJMu4dKIn/KtkdvNSIUmcYTvyEVzi6S19J7QTCuadUwrwnekaS3tB/aIzwRtNAII/GEC9ojPgUsyGUP81uNnj/isJkfG89FPg5yvL8ITTXWLntbSF6mn1Z9xfu9hxM4rDxm+KQ/mbAKYFeVUUUtufd3skNyWDjFMqy++a+QOImQy/TqfWF+m1dfLy8gTRcNk+qKhlz67a74xrYwh08KvRIBplXB9ONi3hxk/SQu/MgGmVUb2MIBpZfyYFn5lAkyrjIxp2ZomF42eVp8h0+qz09PK2L2OJsIMJH74VQi4PazQ+uRYky6DiB9+FQJMq0KLaenh0UuZwIxFySsP5TI8DphRFD2jflHUo8/u6hmtrj+mldXYe1r4lQgw1RKuDwe7Pcz4uV3Cr0yAaZWRPQxgWhk/poVfmQDTKiNjWt7TykWzes/D9fVrvIOpbtHTWnpPaPtp9WeID84jdrs0zkcvIkv7gT3iY007AQII/EkC9ojPae8Q90evxM7X180OerFHfL++GvEhu1Nvb5hqXzieHvbZvY7cYWUySfqFVt8+u1mL0haN+KUvUiM+UjVTiPAd+XLz0n5gj/hM0LNWOsmtXxcm3Wd36ZlpZQyPXOmYVl80TKvPjmll7PS08GsRYFotbA/zTdLKGEpa+JUIMK0Srg8He3qY8fPKA35lAkyrjOxhANPK+DEt/MoEmFYZGdPywXQuGo34PkOm1WenEZ+x04jHr0WAabWwacRLCn3hmHR9dldSoL8+Qz2tPjtJawA7kziHeOIi4pWHUDcnikZS6IuGXvrs9LQydpIWfi0CTKuFTU9LUugLx6Trs3M7nLGTtHJ+L2cwiTOQ+OFXIbBNI37pPaFtTVPR3IdjmVaE78hFc2k/sEd8JmijEUDgDxOwR3wOXJLJGOK3Hj97xGc1OTKee5DRFw0T7LPTiM/YeeUBvxYBptXC5pUHSaEvHJOuz87T5oydpJXz88rDAIZMMIN4Ij+f8WSa0dPCr0TgRJMZfWfDtEqS+3gwEWYA8cOvQmCbl0uXdlYvl1Y09+FYphXhOzLpL+0Hfu9hJmiNX/yqBHZYRJhWtarvjt+hyKN7Cs7XFw299Nl5epixe3hvxCTuwzSJ++xOTdKSVqaZI3sKTLovGibdZydpZewkLfxaBJhWC9vDfJO0MoaSFn4lAkyrhOu3T5uZVsaQaeFXIsC0SriY1uXQejJ94Zh0fXanNs5HzzdJK9OgpIVfiQDTL+GStCStTDCSAn5VAjNMeouktfSe0D7jqer44fgZoh59O+J8/RLPqO/SfmCP+L5YjEQAgb9AwB7xOfQZK53k0a+LevTZXe0Je8RnDDXi8SsRYFolXBrxGvGZYDTi8asSmGHSWzTil75IjfiqjjXiI2KPg2eYwuq3/0v7gf20cnWfKOrVJ53r6+vazqV9dq8jmUIGET/8KgSYVoXWJ8eadBlE/PCrEGBaFVpM64UAk8lEg1/OT08rY2gS41ciwLRKuLzy4JWHTDCSFn5VAjNMWtKqVuHd8TOK4ulSvyjq0We3y6LEtLIauz3Er0SAqZZwuT10e5gJZpeVWFLt13kHU5W0+vX1NC1kxwRzgDuYzOhFhGmFujlRNKNF6Hx9EZ6oP6bV14ukFbKTtHKATKvPcEq7yLeH/YJcI08UteTW180OepG0+vWVtEJ2klYOcAeTGb2IbGFaS+8JbWuaaOadOOlGT+LTzre0H9gjPvIDgxFA4E8TsEd8TlySyRjitx4/e8RnNfFGPH4lAkywhOvDwbamyfhpxONXJsC0ysgeBjCtjB/Twq9MgGmVkTGtr572Raox6SJ82gkZvhd+W7zysPRFMsFIhkwwwnekCS7tB96IzwR9H80UMob4rcePaWU1YQr4lQgwwRIuTw+nfCDp9jBSoUkc4Tty0ZS0Ms0cKZrTPhvx8/YnyYxFiWn16+GVh5CdnlsOcIYprG7STCvUzYmiWV3Urq8v6h30zLT69ZW0QnaSVg5wB5MZvYgwrVA3J4pmtAidry/CE/XHtPp6kbRCdpJWDpBp9RlOeZvAy6X9glwjTxS15NbXzQ56kbT69ZW0QnaSVg5wB5MZvYgwrVA3J4pmtAidry/CE/W3hWktvSe0N+L7M863kRG7U5Pq0n5gj/hY006AAAJ/koA94nPaJ94+uN3s62YHvdgjvl9fjfiQ3am3N0y1LxybAPbZvY7cYWUySfqFVt8+u1mL0haN+KUvUiM+UjVTiPAducvI0n7g5dJM0LNWOsmtXxcm3Wd36ZlpZQyPXOmYVl80TKvPjmll7PS08GsRYFotbA/zTdLKGEpa+JUIMK0Srg8He3qY8fPKA35lAkyrjOxhANPK+DEt/MoEmFYZGdPyG6Zz0WjE9xkyrT47jfiMnUY8fi0CTKuFTSNeUugLx6Trs7uSAv31Gepp9dlJWgPYmcQ5xBMXEa88hLo5UTSSQl809NJnp6eVsZO08GsRYFotbHpakkJfOCZdn53b4YydpJXzezmDSZyBxA+/CoFtGvFL7wlta5qK5j4cy7QifEcumkv7gT3iM0EbjQACf5iAPeJz4JJMxhC/9fjZIz6ryZHx3IOMvmiYYJ+dRnzGzisP+LUIMK0WNq88SAp94Zh0fXaeNmfsJK2cn1ceBjBkghnEE/n5jCfTjJ4WfiUCJ5rM6DsbplWS3MeDiTADiB9+FQLbvFy6tLN6ubSiuQ/HMq0I35FJf2k/8HsPM0Fr/OJXJbDDIsK0qlV9d/wORR7dU3C+vmjopc/O08OM3cN7IyZxH6ZJ3Gd3apKWtDLNHNlTYNJ90TDpPjtJK2MnaeHXIsC0Wtge5puklTGUtPArEWBaJVy/fdrMtDKGTAu/EgGmVcLFtC6H1pPpC8ek67M7tXE+er5JWpkGJS38SgSYfgmXpCVpZYKRFPCrEphh0lskraX3hPYZT1XHD8fPEPXo2xHn65d4Rn2X9gN7xPfFYiQCCPwFAvaIz6HPWOkkj35d1KPP7mpP2CM+Y6gRj1+JANMq4dKI14jPBKMRj1+VwAyT3qIRv/RFasRXdawRHxF7HDzDFFa//V/aD+ynlav7RFGvPulcX1/Xdi7ts3sdyRQyiPjhVyHAtCq0PjnWpMsg4odfhQDTqtBiWi8EmEwmGvxyfnpaGUOTGL8SAaZVwuWVB688ZIKRtPCrEphh0pJWtQrvjp9RFE+X+kVRjz67XRYlppXV2O0hfiUCTLWEy+2h28NMMLusxJJqv847mKqk1a+vp2khOyaYA9zBZEYvIkwr1M2JohktQufri/BE/TGtvl4krZCdpJUDZFp9hlPaRb497BfkGnmiqCW3vm520Iuk1a+vpBWyk7RygDuYzOhFZAvTWnpPaFvTRDPvxEk3ehKfdr6l/cAe8ZEfGIwAAn+agD3ic+KSTMYQv5Tft9v325fbj9uP2+eJ8N/+/rqGb7evt9tt6B7x3263719utx8/bp9f37/9/a/Lu33ViM8Eo2eEX5XAeJO+m9btxWzSP99vv0xrzPlut6930xp1fd9uTCstMtPKCY6fxP+wojcud/3rY1qNsv4aMuW9DI34qCbrT7rTTGb0z8u0ognCtCJ8XvHI8R34gT3TimTDtCJ8TCvHx7QChnpaAby3Q93eZCDx+6/zk7SiCktaET5JK8cnaQUMJa0AnqQ1CJ5flBGDXD+pSlpRkSWtCJ+kleOTtAKGklYAT9IaBE/SikFKWn2ELyHGy6V9gNfI9UU4+j0e50tUs75e3B4m9X19Xf+0r+L9vH3ZrG8Kq5s+0+qr7+eHlvdvlkziPkaTuM/uPvI8fkwrUoxGfIRPIz7Hx7QChhrxATyN+EHwjkwepyV9SSuaLZJWhE/SyvFJWgFDSSuAJ2kNgidpxSDX75EdmrSW3hNaYz+aeOtPutNu50b/vPd89OuFni+vu5jedyt9+/8/I6P/bwI41A++vznffffSa5fS+3/fvIf01MO7t5sAPvPjOAYBBBD46wTsEZ+XQJLJGOK3Hr+he8SPvlOyR3wmmPtoky5jiN96/Ibt6f5zb/inbv2exPCDaT1J6h8OM+kyhvitx49pZTWRZPArEWCCJVwfDr7zY1oZQ6aFX4kA0yrhYlpeLs0Eo0eGX5XADJOWtKpVeHf8jKIMbQyOfjrifJFi6CXC93Jnw7Qyhm4P8SsRYFolXG4P3R5mgnF7iF+VwAyTlrSqVXB7aD+yQDMzJvFp7QSmFQhQ8gjhefk1BniiCTKtUDYniua0ld3P258kM+YH0+rX42XkjKKYJP2iqEef3S56ZlpZjZkWfiUCTLWEy9NDTw8zweyyEkuq/TrvYKqSVr++bg9DdkwwB7iDyYxeRJhWqJsTRTNahM7XF+GJ+mNafb1IWiE7SSsHyLT6DKe0i679tIbuCe3buX6VPS2N2DHpGN/Lg6+l/eAyrfxHdQYEEEDgDxCYtUf86D2mne+jGJ69bbn/dhX88PubehnaU5213fLoRp7z9Vawixt++D1DYJZemNYz9D85ZlZRmEKvKOrR43aN2oUf0wrqvEuRmWCvyOrb4zbbBJlWUBeiDuC92dGSqfY4nqo/ptXTy8uoU0XDZHqioZcet/fJjWkFHIkwgMf0M3gH82NagXSYVgDv4EknqfZ0M/WNeEXJioIffs8QOHXRlLSeUYdXHvTwAp3Mfpp22iLHtAIxnrrSnTZJ/Ly9STJrfjCtXj0kj4Cb5HG73T+HSv/MMoXVTZppBco5VTSri9r19US9i56ZVq++klbATdKStDry8fSwQ+3dmF1WJsmjV2z17XGbvShJWkFdiDqA5z2tDN7B/JhWIB2mFcA7eNJJvj3duD3scXsYxbQyiPjhVyEw1bRG7wntfLfb+62sn43I90fr+OH3X9LLsz/LM4b4wx7xz2ByDAIIrELgy/8A/keUTIbmTQ0AAAAASUVORK5CYII=)"
      ]
    },
    {
      "cell_type": "code",
      "metadata": {
        "id": "mSCwE_MZ9Ewa"
      },
      "source": [
        "g = load_maze('4.2.png')"
      ],
      "execution_count": null,
      "outputs": []
    },
    {
      "cell_type": "code",
      "metadata": {
        "id": "a-M664IJ9GR-"
      },
      "source": [
        "pf = Pathfinder(g, \"always_1\", \"manhattan\")   # change arguments to choose the appropriate pathfinding algorithm and cost/heuristic (if applicable)\n",
        "g.draw_map(pf.get_path())"
      ],
      "execution_count": null,
      "outputs": []
    },
    {
      "cell_type": "code",
      "metadata": {
        "id": "ZCb5j2Ul_uCo"
      },
      "source": [
        "\n",
        "pf.vis.show_gif()"
      ],
      "execution_count": null,
      "outputs": []
    },
    {
      "cell_type": "markdown",
      "metadata": {
        "id": "rqqmkt3U_9q1"
      },
      "source": [
        "### 4.3."
      ]
    },
    {
      "cell_type": "code",
      "metadata": {
        "id": "UwqILZmBJjJ-"
      },
      "source": [
        "draw(filename='4.3.png')"
      ],
      "execution_count": null,
      "outputs": []
    },
    {
      "cell_type": "markdown",
      "metadata": {
        "id": "-A3mBvHiJoQq"
      },
      "source": [
        "#### Εισάγετε εδώ τη φωτογραφία όπως αυτή προέκυψε από την εκτέλεση και αλληλεπίδραση με το παραπάνω κελί.  \n",
        "![4.3.png](data:image/png;base64,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)\n",
        "\n",
        "#### Εισάγετε εδώ το σχολιασμό σας \n",
        "\n",
        "Επιλέξατε την συγκεκριμένη επιλογή γιατί είναι η ιδανική του greedy best first. Οπότε κατάφερε να φτάσει μέχρι και τον Α-*\n"
      ]
    },
    {
      "cell_type": "code",
      "metadata": {
        "id": "apabzO95ACov"
      },
      "source": [
        "g = load_maze('4.3.png')"
      ],
      "execution_count": null,
      "outputs": []
    },
    {
      "cell_type": "code",
      "metadata": {
        "id": "V1s5kFo5ADsb"
      },
      "source": [
        "pf = Pathfinder(g, \"always_1\",\"manhattan\")   # change arguments to choose the appropriate pathfinding algorithm and cost/heuristic (if applicable)\n",
        "g.draw_map(pf.get_path())"
      ],
      "execution_count": null,
      "outputs": []
    },
    {
      "cell_type": "code",
      "metadata": {
        "id": "gdTJbRpmAD0X"
      },
      "source": [
        "\n",
        "pf.vis.show_gif()"
      ],
      "execution_count": null,
      "outputs": []
    },
    {
      "cell_type": "markdown",
      "metadata": {
        "id": "x41xMK-VAGHp"
      },
      "source": [
        "### 4.4.  "
      ]
    },
    {
      "cell_type": "code",
      "metadata": {
        "id": "ndh3zuH4Jjyo"
      },
      "source": [
        "draw(filename='4.4.png')"
      ],
      "execution_count": null,
      "outputs": []
    },
    {
      "cell_type": "markdown",
      "metadata": {
        "id": "UOEI0BCCJqFz"
      },
      "source": [
        "#### Εισάγετε εδώ τη φωτογραφία όπως αυτή προέκυψε από την εκτέλεση και αλληλεπίδραση με το παραπάνω κελί.  \n",
        "![4.4.png](data:image/png;base64,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)\n",
        "\n",
        "#### Εισάγετε εδώ το σχολιασμό σας \n",
        "Επιλέγοντας εμπόδια που δεν περιορίζουν πολύ τις επιλογές του Dijkstra, τον κάνουμε να ελέγξει παντού. Ενώ ο Α* πάει γρήγορα στο τέρμα.\n"
      ]
    },
    {
      "cell_type": "code",
      "metadata": {
        "id": "ixRxVVOwAK8K"
      },
      "source": [
        "g = load_maze('4.4.png')"
      ],
      "execution_count": null,
      "outputs": []
    },
    {
      "cell_type": "code",
      "metadata": {
        "id": "3Qrz7mawALUY"
      },
      "source": [
        "pf = Pathfinder(g, \"always_1\",\"manhattan\")   # change arguments to choose the appropriate pathfinding algorithm and cost/heuristic (if applicable)\n",
        "g.draw_map(pf.get_path())"
      ],
      "execution_count": null,
      "outputs": []
    },
    {
      "cell_type": "code",
      "metadata": {
        "id": "5ze26bEaALcm"
      },
      "source": [
        "pf.vis.show_gif()"
      ],
      "execution_count": null,
      "outputs": []
    },
    {
      "cell_type": "markdown",
      "metadata": {
        "id": "KcKfD8ylAOpb"
      },
      "source": [
        "### 4.5.  "
      ]
    },
    {
      "cell_type": "code",
      "metadata": {
        "id": "tzK7U4PfJkIC"
      },
      "source": [
        "draw(filename='4.5.png')"
      ],
      "execution_count": null,
      "outputs": []
    },
    {
      "cell_type": "markdown",
      "metadata": {
        "id": "gudt2lGiJrW0"
      },
      "source": [
        "#### Εισάγετε εδώ τη φωτογραφία όπως αυτή προέκυψε από την εκτέλεση και αλληλεπίδραση με το παραπάνω κελί.  \n",
        "![4.5.png](data:image/png;base64,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)\n",
        "\n",
        "#### Εισάγετε εδώ το σχολιασμό σας \n",
        "Στο συγκεκριμένο παράδειγμα ο Dijkstra δεν χάνει πολύ χρόνο σε σχέση με το να μην υπήρχαν εμπόδια. Ενώ ο Α* πρέπει πρώτα να εξαντλήσει τις λύσεις που του “λέει” η ευρετική.\n",
        "\n",
        " \n"
      ]
    },
    {
      "cell_type": "code",
      "metadata": {
        "id": "zT3sxMjVARhy"
      },
      "source": [
        "g = load_maze('4.5.png')"
      ],
      "execution_count": null,
      "outputs": []
    },
    {
      "cell_type": "code",
      "metadata": {
        "id": "CVET3yUWATTB"
      },
      "source": [
        "pf = Pathfinder(g, \"always_1\",\"always_0\")   # change arguments to choose the appropriate pathfinding algorithm and cost/heuristic (if applicable)\n",
        "g.draw_map(pf.get_path())"
      ],
      "execution_count": null,
      "outputs": []
    },
    {
      "cell_type": "code",
      "metadata": {
        "id": "oRtWfOvNATUr"
      },
      "source": [
        "pf.vis.show_gif()"
      ],
      "execution_count": null,
      "outputs": []
    }
  ]
}